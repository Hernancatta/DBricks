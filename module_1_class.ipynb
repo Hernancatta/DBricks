{
  "nbformat": 4,
  "nbformat_minor": 0,
  "metadata": {
    "colab": {
      "provenance": [],
      "collapsed_sections": [
        "JG1HL69-j0lH",
        "s_Dj-BgThLg5",
        "jeEzLmuRhDQy",
        "PoTeRwlihDQ0",
        "QpMlxqRyhDQ1",
        "ov7Fg-mWhDQ1",
        "DvHPNAoPgdiG",
        "3SMp5GwjglJm",
        "e3ieQfXTgqd3",
        "L0pKWNr5fm9z",
        "DMhCpOU_gupo",
        "l3h0WP2Eg2ht",
        "rWG4Vk6XaWtf",
        "wkibgd8rB8y3",
        "IjPaJtnYE0MI",
        "2lpj1rszc--m",
        "HnWg_mhLd5gC",
        "RhqmXiHQo-is",
        "SvT9xrajLL7J",
        "91eSyA2cLLqv"
      ],
      "include_colab_link": true
    },
    "kernelspec": {
      "name": "python3",
      "display_name": "Python 3"
    }
  },
  "cells": [
    {
      "cell_type": "markdown",
      "metadata": {
        "id": "view-in-github",
        "colab_type": "text"
      },
      "source": [
        "<a href=\"https://colab.research.google.com/github/lucassdeandrade/DBricks/blob/main/module_1_class.ipynb\" target=\"_parent\"><img src=\"https://colab.research.google.com/assets/colab-badge.svg\" alt=\"Open In Colab\"/></a>"
      ]
    },
    {
      "cell_type": "markdown",
      "metadata": {
        "id": "KJqp9AANOCtf"
      },
      "source": [
        "<img src=\"https://raw.githubusercontent.com/andre-marcos-perez/ebac-course-utils/main/media/logo/newebac_logo_black_half.png\" alt=\"ebac-logo\">\n",
        "\n",
        "---\n",
        "\n",
        "# **Módulo** | SQL: Base de dados & Linguagem SQL\n",
        "Caderno de **Aula**<br>\n",
        "Professor [André Perez](https://www.linkedin.com/in/andremarcosperez/)\n",
        "\n",
        "---"
      ]
    },
    {
      "cell_type": "markdown",
      "metadata": {
        "id": "d9jDtUbDOE1-"
      },
      "source": [
        "# **Tópicos**\n",
        "\n",
        "<ol type=\"1\">\n",
        "  <li>Introdução ao Google Colab;</li>\n",
        "  <li>Bases de dados relacionais;</li>\n",
        "  <li>Introdução ao SQL;</li>\n",
        "  <li>Introdução ao AWS Console;</li>\n",
        "  <li>Armazenamento de dados com AWS S3;</li>\n",
        "  <li>Computação em SQL com AWS Athena.</li>\n",
        "</ol>"
      ]
    },
    {
      "cell_type": "markdown",
      "metadata": {
        "id": "SmoHgt-lwkpD"
      },
      "source": [
        "---"
      ]
    },
    {
      "cell_type": "markdown",
      "metadata": {
        "id": "GABI6OW8OfQ2"
      },
      "source": [
        "# **Aulas**"
      ]
    },
    {
      "cell_type": "markdown",
      "metadata": {
        "id": "muD1vxozykSC"
      },
      "source": [
        "## 1\\. Introdução ao Google Colab"
      ]
    },
    {
      "cell_type": "markdown",
      "metadata": {
        "id": "xT1ohV3t0FQJ"
      },
      "source": [
        "> Ferramenta web autogerênciada de cadernos (*notebooks*)."
      ]
    },
    {
      "cell_type": "markdown",
      "metadata": {
        "id": "5a3_syBIP6yO"
      },
      "source": [
        "### **1.1. Ferramenta web**"
      ]
    },
    {
      "cell_type": "markdown",
      "metadata": {
        "id": "xF1tFQyRQag2"
      },
      "source": [
        "\n",
        "\n",
        "*   Crie uma conta Google em [gmail.com](https://gmail.com);\n",
        "*   Acesse o Google Colab através do endereço [colab.research.google.com](https://colab.research.google.com/).\n",
        "\n",
        "\n"
      ]
    },
    {
      "cell_type": "markdown",
      "metadata": {
        "id": "VkIgtLmhQRDV"
      },
      "source": [
        "### **1.2. Autogerênciada**"
      ]
    },
    {
      "cell_type": "markdown",
      "metadata": {
        "id": "P14BSbuH0SQB"
      },
      "source": [
        "\n",
        "\n",
        "*   A Google provisiona uma máquina virtual para você;\n",
        "*   A máquina virtual dura no máximo 12h.\n",
        "\n"
      ]
    },
    {
      "cell_type": "markdown",
      "metadata": {
        "id": "mIgaH380QG2e"
      },
      "source": [
        "### **1.3. Cadernos (*notebooks*)**"
      ]
    },
    {
      "cell_type": "markdown",
      "metadata": {
        "id": "_4Q4H0RKm-4G"
      },
      "source": [
        "Um **caderno** é um documento *web* composto por um conjunto de elementos (células) de texto e código:\n",
        "\n",
        "\n",
        "*   Células de **texto** podem ser editados com o editor da ferramenta, HTML ou Markdown;\n",
        "*   ~Células de **código** são exclusivamente para a linguagem de programação Python~.\n",
        "\n"
      ]
    },
    {
      "cell_type": "markdown",
      "metadata": {
        "id": "zC2XR1GRaFl5"
      },
      "source": [
        "## 2\\. Bases de Dados Relacionais"
      ]
    },
    {
      "cell_type": "markdown",
      "metadata": {
        "id": "GsA0OqRRdBzi"
      },
      "source": [
        "### **2.1. Físico**"
      ]
    },
    {
      "cell_type": "markdown",
      "metadata": {
        "id": "nmWUu2E7JzZo"
      },
      "source": [
        "Conceitos relacionados ao armazenamento físico dos dados."
      ]
    },
    {
      "cell_type": "markdown",
      "metadata": {
        "id": "gfS4k76RJf6L"
      },
      "source": [
        " - Sistema Gerenciador de Base de Dados (SGBD)\n",
        "\n",
        "> Software que gerencia o armazenamento físico de dados.\n",
        "\n",
        "Alguns exemplos:\n",
        "\n",
        "- [MySQL](https://www.mysql.com/);\n",
        "- [PostgreSQL](https://www.postgresql.org/);\n",
        "- [MariaDB](https://mariadb.org/);\n",
        "- [Oracle](https://www.oracle.com/br/index.html)"
      ]
    },
    {
      "cell_type": "markdown",
      "metadata": {
        "id": "sV1otxQVhcaA"
      },
      "source": [
        "### **2.2. Lógico**"
      ]
    },
    {
      "cell_type": "markdown",
      "metadata": {
        "id": "8hZ3XTwIJs9e"
      },
      "source": [
        "Conceitos relacionados a organização lógica dos dados."
      ]
    },
    {
      "cell_type": "markdown",
      "metadata": {
        "id": "VkAuKppdb5Sw"
      },
      "source": [
        "- Tabela\n",
        "\n",
        "> Estrutura lógica e tabular de dados organizados em linhas e colunas.\n",
        "\n",
        "- Base de Dado\n",
        "\n",
        "> Conjunto lógico de tabelas."
      ]
    },
    {
      "cell_type": "markdown",
      "metadata": {
        "id": "ZtOHwcxEaGGp"
      },
      "source": [
        "## 3\\. Introdução ao SQL"
      ]
    },
    {
      "cell_type": "markdown",
      "metadata": {
        "id": "s_Dj-BgThLg5"
      },
      "source": [
        "### **3.1. Definição**"
      ]
    },
    {
      "cell_type": "markdown",
      "metadata": {
        "id": "-WX56uZlEVEb"
      },
      "source": [
        "A linguagem de consulta estruturada, do inglês *structured query language* ou SQL, é uma linguagem de programação declarativa para interação com os dados armazenados nas tabelas de uma base de dados. Existe uma versão padrão do SQL registrada no ANSI, mas cada SGBD tem a sua própria versão."
      ]
    },
    {
      "cell_type": "markdown",
      "metadata": {
        "id": "sKzdtDbMun4R"
      },
      "source": [
        "Os códigos SQL são conhecidos como *queries* e são divididas em dois grandes grupos:\n",
        "\n",
        " - **DDL**: Linguagem de definição de dados;\n",
        " - **DML**: Linguagem de manipulação de dados."
      ]
    },
    {
      "cell_type": "markdown",
      "metadata": {
        "id": "v3_dMvgTvWUO"
      },
      "source": [
        "Para exemplificar esses conceitos, vamos utilizar a tabela abaixo, com dados de clientes de uma instituição financeira."
      ]
    },
    {
      "cell_type": "markdown",
      "metadata": {
        "id": "ubiOD7fyNB9t"
      },
      "source": [
        "| id        | idade | sexo | dependentes | escolaridade | tipo_cartao | limite_credito | valor_transacoes_12m | qtd_transacoes_12m |\n",
        "|-----------|-------|------|---|--------------|-|----------------|----------|----|\n",
        "| 768805383 | 45    | M    | 3 | ensino medio | blue | 12.691,51      | 1.144,90 | 42 |\n",
        "| 818770008 | 49    | F    | 5 | mestrado     | blue | 8.256,96      | 1.291,45 | 33 |\n",
        "| 713982108 | 51    | M    | 3 | mestrado     | blue | 3.418,56      | 1.887,72 | 20 |"
      ]
    },
    {
      "cell_type": "markdown",
      "metadata": {
        "id": "tsZw5EJUdvot"
      },
      "source": [
        "### **3.2. DDL**"
      ]
    },
    {
      "cell_type": "markdown",
      "metadata": {
        "id": "OfSIQwJhhN2M"
      },
      "source": [
        "Linguagem de definição de dados, do inglês *Data Definition Language* ou DDL são instruções para criar/excluir/alterar tabelas e inserir/remover/atualizar dados."
      ]
    },
    {
      "cell_type": "markdown",
      "metadata": {
        "id": "tREDswZoedI1"
      },
      "source": [
        "**Query 1:** Criar/excluir a tabela de `clientes`.\n",
        "\n"
      ]
    },
    {
      "cell_type": "markdown",
      "metadata": {
        "id": "-nt5mclf7vSs"
      },
      "source": [
        "```sql\n",
        "CREATE TABLE clientes (\n",
        "  id BIGINT,\n",
        "  idade BIGINT,\n",
        "  sexo STRING,\n",
        "  dependentes BIGINT,\n",
        "  escolaridade STRING,\n",
        "  tipo_cartao STRING,\n",
        "  limite_credito DOUBLE,\n",
        "  valor_transacoes_12m DOUBLE,\n",
        "  qtd_transacoes_12m BIGINT\n",
        ");\n",
        "```"
      ]
    },
    {
      "cell_type": "markdown",
      "metadata": {
        "id": "kXR_G9yHwPTM"
      },
      "source": [
        "**Query 2:** Excluir a tabela de `clientes`."
      ]
    },
    {
      "cell_type": "markdown",
      "metadata": {
        "id": "Pp6XjLGFvtUS"
      },
      "source": [
        "```sql\n",
        "DROP TABLE clientes;\n",
        "```"
      ]
    },
    {
      "cell_type": "markdown",
      "metadata": {
        "id": "Ly2dlZejedI8"
      },
      "source": [
        "**Query 3:** Inserir os dados na tabela de `clientes`.\n",
        "\n"
      ]
    },
    {
      "cell_type": "markdown",
      "metadata": {
        "id": "FNYhrIPqedI9"
      },
      "source": [
        "```sql\n",
        "INSERT INTO clientes VALUES (768805383, 45, 'M', 3, 'ensino medio', 'blue', 12691.51, 1144.90, 42);\n",
        "INSERT INTO clientes VALUES (818770008, 49, 'F', 5, 'mestrado', 'blue', 8256.96, 1291.45, 33);\n",
        "INSERT INTO clientes VALUES (713982108, 51, 'M', 3, 'mestrado', 'blue', 3418.56, 1887.72, 20);\n",
        "```"
      ]
    },
    {
      "cell_type": "markdown",
      "metadata": {
        "id": "-goFDY58wTgo"
      },
      "source": [
        "**Query 4:** Remover os dados das mulheres na tabela de `clientes`.\n",
        "\n"
      ]
    },
    {
      "cell_type": "markdown",
      "metadata": {
        "id": "LJoXJ4_nwIPz"
      },
      "source": [
        "```sql\n",
        "DELETE FROM clientes WHERE sexo = 'F';\n",
        "```"
      ]
    },
    {
      "cell_type": "markdown",
      "metadata": {
        "id": "SP_8R7dlhmQE"
      },
      "source": [
        "### **3.3. DML**"
      ]
    },
    {
      "cell_type": "markdown",
      "metadata": {
        "id": "lr75bd93d-cB"
      },
      "source": [
        "Linguagem de manipulação de dados, do inglês *Data Manipulation Language* ou DML são instruções para manipular (selecionar, filtrar, agregar, limitar, etc.) os dados armazenados em tabelas."
      ]
    },
    {
      "cell_type": "markdown",
      "metadata": {
        "id": "-AicMXjxeSiG"
      },
      "source": [
        "**Query 1:** Selecionar o id, a idade e o limite de crédito dos clientes homens da tabela de `clientes`, ordenados por idade de maneira decrescente."
      ]
    },
    {
      "cell_type": "markdown",
      "metadata": {
        "id": "OXK6MyQrd-cC"
      },
      "source": [
        "```sql\n",
        "SELECT id, idade, limite_credito FROM clientes WHERE sexo = 'M' ORDER BY idade DESC;\n",
        "```"
      ]
    },
    {
      "cell_type": "markdown",
      "metadata": {
        "id": "7fmApduvrrcs"
      },
      "source": [
        "| id        | idade | limite_credito |\n",
        "|-----------|-------|----------------|\n",
        "| 713982108 | 51    |   3418.56      |\n",
        "| 768805383 | 45    |  12691.51      |"
      ]
    },
    {
      "cell_type": "markdown",
      "metadata": {
        "id": "ZjwHJnl1eYzN"
      },
      "source": [
        "**Query 2:** Selecionar a média da idade dos clientes por sexo da tabela de `clientes`."
      ]
    },
    {
      "cell_type": "markdown",
      "metadata": {
        "id": "WjuVn7JCeYzO"
      },
      "source": [
        "```sql\n",
        "SELECT sexo, AVG(idade) AS \"media_idade_por_sexo\" FROM clientes GROUP BY sexo;\n",
        "```"
      ]
    },
    {
      "cell_type": "markdown",
      "metadata": {
        "id": "sp8lBypSsa4b"
      },
      "source": [
        "| sexo | media_idade_por_sexo |\n",
        "|------|----------------------|\n",
        "| M    | 48                   |\n",
        "| F    | 49                   |"
      ]
    },
    {
      "cell_type": "markdown",
      "metadata": {
        "id": "ne7Ay0HKaGSv"
      },
      "source": [
        "## 4\\. Introdução ao AWS Console"
      ]
    },
    {
      "cell_type": "markdown",
      "metadata": {
        "id": "2zLVibiQtAly"
      },
      "source": [
        "A Amazon Web Service (AWS) é uma plataforma de computação em nuvem. Ela oferece uma série de serviços de computação, armanezamento de dados, etc. Vamos utilizar dois serviços da plataforma para construir o nosso SGBD e aprender o SQL:"
      ]
    },
    {
      "cell_type": "markdown",
      "metadata": {
        "id": "g8980AXwSUrB"
      },
      "source": [
        " - AWS [S3](https://aws.amazon.com/pt/s3/): Serviço de armazenamento de dados;\n",
        " - AWS [Athena](https://aws.amazon.com/pt/athena/): Serviços de computação em SQL."
      ]
    },
    {
      "cell_type": "markdown",
      "metadata": {
        "id": "b0xVVZSBSWio"
      },
      "source": [
        "> **Atenção:** Todo serviço utilizado tem um custo associado! Se a sua conta da AWS é nova, você é elegível a diversos serviços gratuitos (por tempo/quota de uso, etc.). Confira nesse [link](https://aws.amazon.com/pt/free) a oferta atual (elas podem mudar ao longo do tempo)."
      ]
    },
    {
      "cell_type": "markdown",
      "metadata": {
        "id": "0vankGNAHepJ"
      },
      "source": [
        "Para criar a sua conta na plataforma, basta acessar este [link](https://portal.aws.amazon.com/)."
      ]
    },
    {
      "cell_type": "markdown",
      "metadata": {
        "id": "EvJTE2FpaGeU"
      },
      "source": [
        "## 5\\. Armazenamento de dados com AWS S3"
      ]
    },
    {
      "cell_type": "markdown",
      "metadata": {
        "id": "Bf3gvEtslb1v"
      },
      "source": [
        "### **5.1. Definição**"
      ]
    },
    {
      "cell_type": "markdown",
      "metadata": {
        "id": "ISYXZbomlb1x"
      },
      "source": [
        "O AWS [S3](https://aws.amazon.com/pt/s3/) é um serviço de armazenameto distribuido e sem servidor que atua como um repositório de dados. O serviço é inspirado no famoso projeto *open source* [Apache Hadoop](https://hadoop.apache.org/).\n",
        "\n"
      ]
    },
    {
      "cell_type": "markdown",
      "metadata": {
        "id": "pnxYnr6flb1y"
      },
      "source": [
        "### **5.2. Funcionamento**"
      ]
    },
    {
      "cell_type": "markdown",
      "metadata": {
        "id": "NY8c3fEWlb1y"
      },
      "source": [
        "1. Um *bucket* é uma partição lógica de dados, como uma pasta do seu computador;\n",
        "2. Um objeto é um dado que você armazena dentro de um um *bucket*;\n",
        "3. Outros serviços da plataforma podem acessar os dados armazenados."
      ]
    },
    {
      "cell_type": "markdown",
      "metadata": {
        "id": "h_7ULt6Wlb1z"
      },
      "source": [
        "### **5.3. Definição de Preço**"
      ]
    },
    {
      "cell_type": "markdown",
      "metadata": {
        "id": "J54rLu4Mlb10"
      },
      "source": [
        "O AWS [S3](https://aws.amazon.com/pt/s3/) cobra por volume de dados armazenado. O preço atual é complexo, mas inicia-se com 0,0405 USD por *gigabyte* (GB) armazenado (0,21 BRL aproximadamente). Você deve sempre consultar o preço na página web do serviço ([link](https://aws.amazon.com/pt/s3/pricing/?nc=sn&loc=4))."
      ]
    },
    {
      "cell_type": "markdown",
      "metadata": {
        "id": "oVejInuPakz5"
      },
      "source": [
        "## 6\\. Computação em SQL com o AWS Athena"
      ]
    },
    {
      "cell_type": "markdown",
      "metadata": {
        "id": "ejDMY2FKi8m3"
      },
      "source": [
        "### **6.1. Definição**"
      ]
    },
    {
      "cell_type": "markdown",
      "metadata": {
        "id": "CZbuPphXakz7"
      },
      "source": [
        "O AWS [Athena](https://aws.amazon.com/pt/athena/) é um serviço de computação distribuida e sem servidor que atua como um motor de consulta (*query engine*). Por trás dos panos, ele implementa na infrastrutura computacional da AWS um projeto *open source* chamado [Presto](https://prestodb.io/).\n",
        "\n"
      ]
    },
    {
      "cell_type": "markdown",
      "metadata": {
        "id": "SadRMFFVjAY1"
      },
      "source": [
        "### **6.2. Funcionamento**"
      ]
    },
    {
      "cell_type": "markdown",
      "metadata": {
        "id": "N2j-pN5VjAY3"
      },
      "source": [
        "1. Transforma uma *query* em código;\n",
        "2. Processa os arquivos armazenados no AWS S3 com o código gerado;\n",
        "3. Retorna os resultados no console."
      ]
    },
    {
      "cell_type": "markdown",
      "metadata": {
        "id": "dYWYEfZajAiE"
      },
      "source": [
        "### **6.3. Definição de Preço**"
      ]
    },
    {
      "cell_type": "markdown",
      "metadata": {
        "id": "ESQ6yMH0jAiE"
      },
      "source": [
        "O AWS [Athena](https://aws.amazon.com/pt/athena/) cobra por consulta. O preço atual é de 9,00 USD por *terabyte* escaneado (47,46 BRL aproximadamente). Você deve sempre consultar o preço na página web do serviço ([link](https://aws.amazon.com/pt/athena/pricing/?nc=sn&loc=3))."
      ]
    },
    {
      "cell_type": "code",
      "source": [
        "import pandas as pd"
      ],
      "metadata": {
        "id": "-PEmkPz3E9G5"
      },
      "execution_count": null,
      "outputs": []
    },
    {
      "cell_type": "code",
      "source": [
        "arquivo = ('utlc_apps.csv')\n",
        "\n",
        "df = pd.read_csv(arquivo)\n",
        "df\n"
      ],
      "metadata": {
        "colab": {
          "base_uri": "https://localhost:8080/",
          "height": 528
        },
        "id": "m0L66M5MEcUu",
        "outputId": "fbf80114-33d0-4999-db20-76585365125c"
      },
      "execution_count": null,
      "outputs": [
        {
          "output_type": "execute_result",
          "data": {
            "text/plain": [
              "         original_index                                        review_text  \\\n",
              "0               2483729                                  eu curtindo muito   \n",
              "1               2865805  Aplicativo absurdamente caro e o valor para se...   \n",
              "2               2734161           Não é mais tão simples com o novo layout   \n",
              "3               2066362  Estava com um problema para acessar, porém con...   \n",
              "4               2521806  Eu gostei muito do jogo tenho no celular da mi...   \n",
              "...                 ...                                                ...   \n",
              "1039530         2805325                                             legal!   \n",
              "1039531         1957980  Mt bom o app ,assim dá pra ficar por dentro da...   \n",
              "1039532         2276693                                           Ele é Ok   \n",
              "1039533         2146223  Excelente aplicativo para treinar os conhecime...   \n",
              "1039534         2827743                                      Adoro o line!   \n",
              "\n",
              "                                     review_text_processed  \\\n",
              "0                                        eu curtindo muito   \n",
              "1        aplicativo absurdamente caro e o valor para se...   \n",
              "2                 nao e mais tao simples com o novo layout   \n",
              "3        estava com um problema para acessar, porem con...   \n",
              "4        eu gostei muito do jogo tenho no celular da mi...   \n",
              "...                                                    ...   \n",
              "1039530                                             legal!   \n",
              "1039531  mt bom o app ,assim da pra ficar por dentro da...   \n",
              "1039532                                           ele e ok   \n",
              "1039533  excelente aplicativo para treinar os conhecime...   \n",
              "1039534                                      adoro o line!   \n",
              "\n",
              "                                     review_text_tokenized  polarity  rating  \\\n",
              "0                              ['eu', 'curtindo', 'muito']       1.0     5.0   \n",
              "1        ['aplicativo', 'absurdamente', 'caro', 'valor'...       0.0     1.0   \n",
              "2        ['nao', 'mais', 'tao', 'simples', 'com', 'novo...       1.0     4.0   \n",
              "3        ['estava', 'com', 'um', 'problema', 'para', 'a...       1.0     5.0   \n",
              "4        ['eu', 'gostei', 'muito', 'do', 'jogo', 'tenho...       1.0     5.0   \n",
              "...                                                    ...       ...     ...   \n",
              "1039530                                          ['legal']       1.0     4.0   \n",
              "1039531  ['mt', 'bom', 'app', 'assim', 'da', 'pra', 'fi...       1.0     5.0   \n",
              "1039532                                      ['ele', 'ok']       0.0     1.0   \n",
              "1039533  ['excelente', 'aplicativo', 'para', 'treinar',...       1.0     5.0   \n",
              "1039534                                  ['adoro', 'line']       1.0     5.0   \n",
              "\n",
              "         kfold_polarity  kfold_rating  \n",
              "0                     1             1  \n",
              "1                     1             1  \n",
              "2                     1             1  \n",
              "3                     1             1  \n",
              "4                     1             1  \n",
              "...                 ...           ...  \n",
              "1039530              10            10  \n",
              "1039531              10            10  \n",
              "1039532              10            10  \n",
              "1039533              10            10  \n",
              "1039534              10            10  \n",
              "\n",
              "[1039535 rows x 8 columns]"
            ],
            "text/html": [
              "\n",
              "  <div id=\"df-ab762dd8-3adc-4a92-9d32-ea15d77345f1\" class=\"colab-df-container\">\n",
              "    <div>\n",
              "<style scoped>\n",
              "    .dataframe tbody tr th:only-of-type {\n",
              "        vertical-align: middle;\n",
              "    }\n",
              "\n",
              "    .dataframe tbody tr th {\n",
              "        vertical-align: top;\n",
              "    }\n",
              "\n",
              "    .dataframe thead th {\n",
              "        text-align: right;\n",
              "    }\n",
              "</style>\n",
              "<table border=\"1\" class=\"dataframe\">\n",
              "  <thead>\n",
              "    <tr style=\"text-align: right;\">\n",
              "      <th></th>\n",
              "      <th>original_index</th>\n",
              "      <th>review_text</th>\n",
              "      <th>review_text_processed</th>\n",
              "      <th>review_text_tokenized</th>\n",
              "      <th>polarity</th>\n",
              "      <th>rating</th>\n",
              "      <th>kfold_polarity</th>\n",
              "      <th>kfold_rating</th>\n",
              "    </tr>\n",
              "  </thead>\n",
              "  <tbody>\n",
              "    <tr>\n",
              "      <th>0</th>\n",
              "      <td>2483729</td>\n",
              "      <td>eu curtindo muito</td>\n",
              "      <td>eu curtindo muito</td>\n",
              "      <td>['eu', 'curtindo', 'muito']</td>\n",
              "      <td>1.0</td>\n",
              "      <td>5.0</td>\n",
              "      <td>1</td>\n",
              "      <td>1</td>\n",
              "    </tr>\n",
              "    <tr>\n",
              "      <th>1</th>\n",
              "      <td>2865805</td>\n",
              "      <td>Aplicativo absurdamente caro e o valor para se...</td>\n",
              "      <td>aplicativo absurdamente caro e o valor para se...</td>\n",
              "      <td>['aplicativo', 'absurdamente', 'caro', 'valor'...</td>\n",
              "      <td>0.0</td>\n",
              "      <td>1.0</td>\n",
              "      <td>1</td>\n",
              "      <td>1</td>\n",
              "    </tr>\n",
              "    <tr>\n",
              "      <th>2</th>\n",
              "      <td>2734161</td>\n",
              "      <td>Não é mais tão simples com o novo layout</td>\n",
              "      <td>nao e mais tao simples com o novo layout</td>\n",
              "      <td>['nao', 'mais', 'tao', 'simples', 'com', 'novo...</td>\n",
              "      <td>1.0</td>\n",
              "      <td>4.0</td>\n",
              "      <td>1</td>\n",
              "      <td>1</td>\n",
              "    </tr>\n",
              "    <tr>\n",
              "      <th>3</th>\n",
              "      <td>2066362</td>\n",
              "      <td>Estava com um problema para acessar, porém con...</td>\n",
              "      <td>estava com um problema para acessar, porem con...</td>\n",
              "      <td>['estava', 'com', 'um', 'problema', 'para', 'a...</td>\n",
              "      <td>1.0</td>\n",
              "      <td>5.0</td>\n",
              "      <td>1</td>\n",
              "      <td>1</td>\n",
              "    </tr>\n",
              "    <tr>\n",
              "      <th>4</th>\n",
              "      <td>2521806</td>\n",
              "      <td>Eu gostei muito do jogo tenho no celular da mi...</td>\n",
              "      <td>eu gostei muito do jogo tenho no celular da mi...</td>\n",
              "      <td>['eu', 'gostei', 'muito', 'do', 'jogo', 'tenho...</td>\n",
              "      <td>1.0</td>\n",
              "      <td>5.0</td>\n",
              "      <td>1</td>\n",
              "      <td>1</td>\n",
              "    </tr>\n",
              "    <tr>\n",
              "      <th>...</th>\n",
              "      <td>...</td>\n",
              "      <td>...</td>\n",
              "      <td>...</td>\n",
              "      <td>...</td>\n",
              "      <td>...</td>\n",
              "      <td>...</td>\n",
              "      <td>...</td>\n",
              "      <td>...</td>\n",
              "    </tr>\n",
              "    <tr>\n",
              "      <th>1039530</th>\n",
              "      <td>2805325</td>\n",
              "      <td>legal!</td>\n",
              "      <td>legal!</td>\n",
              "      <td>['legal']</td>\n",
              "      <td>1.0</td>\n",
              "      <td>4.0</td>\n",
              "      <td>10</td>\n",
              "      <td>10</td>\n",
              "    </tr>\n",
              "    <tr>\n",
              "      <th>1039531</th>\n",
              "      <td>1957980</td>\n",
              "      <td>Mt bom o app ,assim dá pra ficar por dentro da...</td>\n",
              "      <td>mt bom o app ,assim da pra ficar por dentro da...</td>\n",
              "      <td>['mt', 'bom', 'app', 'assim', 'da', 'pra', 'fi...</td>\n",
              "      <td>1.0</td>\n",
              "      <td>5.0</td>\n",
              "      <td>10</td>\n",
              "      <td>10</td>\n",
              "    </tr>\n",
              "    <tr>\n",
              "      <th>1039532</th>\n",
              "      <td>2276693</td>\n",
              "      <td>Ele é Ok</td>\n",
              "      <td>ele e ok</td>\n",
              "      <td>['ele', 'ok']</td>\n",
              "      <td>0.0</td>\n",
              "      <td>1.0</td>\n",
              "      <td>10</td>\n",
              "      <td>10</td>\n",
              "    </tr>\n",
              "    <tr>\n",
              "      <th>1039533</th>\n",
              "      <td>2146223</td>\n",
              "      <td>Excelente aplicativo para treinar os conhecime...</td>\n",
              "      <td>excelente aplicativo para treinar os conhecime...</td>\n",
              "      <td>['excelente', 'aplicativo', 'para', 'treinar',...</td>\n",
              "      <td>1.0</td>\n",
              "      <td>5.0</td>\n",
              "      <td>10</td>\n",
              "      <td>10</td>\n",
              "    </tr>\n",
              "    <tr>\n",
              "      <th>1039534</th>\n",
              "      <td>2827743</td>\n",
              "      <td>Adoro o line!</td>\n",
              "      <td>adoro o line!</td>\n",
              "      <td>['adoro', 'line']</td>\n",
              "      <td>1.0</td>\n",
              "      <td>5.0</td>\n",
              "      <td>10</td>\n",
              "      <td>10</td>\n",
              "    </tr>\n",
              "  </tbody>\n",
              "</table>\n",
              "<p>1039535 rows × 8 columns</p>\n",
              "</div>\n",
              "    <div class=\"colab-df-buttons\">\n",
              "\n",
              "  <div class=\"colab-df-container\">\n",
              "    <button class=\"colab-df-convert\" onclick=\"convertToInteractive('df-ab762dd8-3adc-4a92-9d32-ea15d77345f1')\"\n",
              "            title=\"Convert this dataframe to an interactive table.\"\n",
              "            style=\"display:none;\">\n",
              "\n",
              "  <svg xmlns=\"http://www.w3.org/2000/svg\" height=\"24px\" viewBox=\"0 -960 960 960\">\n",
              "    <path d=\"M120-120v-720h720v720H120Zm60-500h600v-160H180v160Zm220 220h160v-160H400v160Zm0 220h160v-160H400v160ZM180-400h160v-160H180v160Zm440 0h160v-160H620v160ZM180-180h160v-160H180v160Zm440 0h160v-160H620v160Z\"/>\n",
              "  </svg>\n",
              "    </button>\n",
              "\n",
              "  <style>\n",
              "    .colab-df-container {\n",
              "      display:flex;\n",
              "      gap: 12px;\n",
              "    }\n",
              "\n",
              "    .colab-df-convert {\n",
              "      background-color: #E8F0FE;\n",
              "      border: none;\n",
              "      border-radius: 50%;\n",
              "      cursor: pointer;\n",
              "      display: none;\n",
              "      fill: #1967D2;\n",
              "      height: 32px;\n",
              "      padding: 0 0 0 0;\n",
              "      width: 32px;\n",
              "    }\n",
              "\n",
              "    .colab-df-convert:hover {\n",
              "      background-color: #E2EBFA;\n",
              "      box-shadow: 0px 1px 2px rgba(60, 64, 67, 0.3), 0px 1px 3px 1px rgba(60, 64, 67, 0.15);\n",
              "      fill: #174EA6;\n",
              "    }\n",
              "\n",
              "    .colab-df-buttons div {\n",
              "      margin-bottom: 4px;\n",
              "    }\n",
              "\n",
              "    [theme=dark] .colab-df-convert {\n",
              "      background-color: #3B4455;\n",
              "      fill: #D2E3FC;\n",
              "    }\n",
              "\n",
              "    [theme=dark] .colab-df-convert:hover {\n",
              "      background-color: #434B5C;\n",
              "      box-shadow: 0px 1px 3px 1px rgba(0, 0, 0, 0.15);\n",
              "      filter: drop-shadow(0px 1px 2px rgba(0, 0, 0, 0.3));\n",
              "      fill: #FFFFFF;\n",
              "    }\n",
              "  </style>\n",
              "\n",
              "    <script>\n",
              "      const buttonEl =\n",
              "        document.querySelector('#df-ab762dd8-3adc-4a92-9d32-ea15d77345f1 button.colab-df-convert');\n",
              "      buttonEl.style.display =\n",
              "        google.colab.kernel.accessAllowed ? 'block' : 'none';\n",
              "\n",
              "      async function convertToInteractive(key) {\n",
              "        const element = document.querySelector('#df-ab762dd8-3adc-4a92-9d32-ea15d77345f1');\n",
              "        const dataTable =\n",
              "          await google.colab.kernel.invokeFunction('convertToInteractive',\n",
              "                                                    [key], {});\n",
              "        if (!dataTable) return;\n",
              "\n",
              "        const docLinkHtml = 'Like what you see? Visit the ' +\n",
              "          '<a target=\"_blank\" href=https://colab.research.google.com/notebooks/data_table.ipynb>data table notebook</a>'\n",
              "          + ' to learn more about interactive tables.';\n",
              "        element.innerHTML = '';\n",
              "        dataTable['output_type'] = 'display_data';\n",
              "        await google.colab.output.renderOutput(dataTable, element);\n",
              "        const docLink = document.createElement('div');\n",
              "        docLink.innerHTML = docLinkHtml;\n",
              "        element.appendChild(docLink);\n",
              "      }\n",
              "    </script>\n",
              "  </div>\n",
              "\n",
              "\n",
              "<div id=\"df-2b08e299-9b23-4795-9dd0-34a86cc11467\">\n",
              "  <button class=\"colab-df-quickchart\" onclick=\"quickchart('df-2b08e299-9b23-4795-9dd0-34a86cc11467')\"\n",
              "            title=\"Suggest charts\"\n",
              "            style=\"display:none;\">\n",
              "\n",
              "<svg xmlns=\"http://www.w3.org/2000/svg\" height=\"24px\"viewBox=\"0 0 24 24\"\n",
              "     width=\"24px\">\n",
              "    <g>\n",
              "        <path d=\"M19 3H5c-1.1 0-2 .9-2 2v14c0 1.1.9 2 2 2h14c1.1 0 2-.9 2-2V5c0-1.1-.9-2-2-2zM9 17H7v-7h2v7zm4 0h-2V7h2v10zm4 0h-2v-4h2v4z\"/>\n",
              "    </g>\n",
              "</svg>\n",
              "  </button>\n",
              "\n",
              "<style>\n",
              "  .colab-df-quickchart {\n",
              "      --bg-color: #E8F0FE;\n",
              "      --fill-color: #1967D2;\n",
              "      --hover-bg-color: #E2EBFA;\n",
              "      --hover-fill-color: #174EA6;\n",
              "      --disabled-fill-color: #AAA;\n",
              "      --disabled-bg-color: #DDD;\n",
              "  }\n",
              "\n",
              "  [theme=dark] .colab-df-quickchart {\n",
              "      --bg-color: #3B4455;\n",
              "      --fill-color: #D2E3FC;\n",
              "      --hover-bg-color: #434B5C;\n",
              "      --hover-fill-color: #FFFFFF;\n",
              "      --disabled-bg-color: #3B4455;\n",
              "      --disabled-fill-color: #666;\n",
              "  }\n",
              "\n",
              "  .colab-df-quickchart {\n",
              "    background-color: var(--bg-color);\n",
              "    border: none;\n",
              "    border-radius: 50%;\n",
              "    cursor: pointer;\n",
              "    display: none;\n",
              "    fill: var(--fill-color);\n",
              "    height: 32px;\n",
              "    padding: 0;\n",
              "    width: 32px;\n",
              "  }\n",
              "\n",
              "  .colab-df-quickchart:hover {\n",
              "    background-color: var(--hover-bg-color);\n",
              "    box-shadow: 0 1px 2px rgba(60, 64, 67, 0.3), 0 1px 3px 1px rgba(60, 64, 67, 0.15);\n",
              "    fill: var(--button-hover-fill-color);\n",
              "  }\n",
              "\n",
              "  .colab-df-quickchart-complete:disabled,\n",
              "  .colab-df-quickchart-complete:disabled:hover {\n",
              "    background-color: var(--disabled-bg-color);\n",
              "    fill: var(--disabled-fill-color);\n",
              "    box-shadow: none;\n",
              "  }\n",
              "\n",
              "  .colab-df-spinner {\n",
              "    border: 2px solid var(--fill-color);\n",
              "    border-color: transparent;\n",
              "    border-bottom-color: var(--fill-color);\n",
              "    animation:\n",
              "      spin 1s steps(1) infinite;\n",
              "  }\n",
              "\n",
              "  @keyframes spin {\n",
              "    0% {\n",
              "      border-color: transparent;\n",
              "      border-bottom-color: var(--fill-color);\n",
              "      border-left-color: var(--fill-color);\n",
              "    }\n",
              "    20% {\n",
              "      border-color: transparent;\n",
              "      border-left-color: var(--fill-color);\n",
              "      border-top-color: var(--fill-color);\n",
              "    }\n",
              "    30% {\n",
              "      border-color: transparent;\n",
              "      border-left-color: var(--fill-color);\n",
              "      border-top-color: var(--fill-color);\n",
              "      border-right-color: var(--fill-color);\n",
              "    }\n",
              "    40% {\n",
              "      border-color: transparent;\n",
              "      border-right-color: var(--fill-color);\n",
              "      border-top-color: var(--fill-color);\n",
              "    }\n",
              "    60% {\n",
              "      border-color: transparent;\n",
              "      border-right-color: var(--fill-color);\n",
              "    }\n",
              "    80% {\n",
              "      border-color: transparent;\n",
              "      border-right-color: var(--fill-color);\n",
              "      border-bottom-color: var(--fill-color);\n",
              "    }\n",
              "    90% {\n",
              "      border-color: transparent;\n",
              "      border-bottom-color: var(--fill-color);\n",
              "    }\n",
              "  }\n",
              "</style>\n",
              "\n",
              "  <script>\n",
              "    async function quickchart(key) {\n",
              "      const quickchartButtonEl =\n",
              "        document.querySelector('#' + key + ' button');\n",
              "      quickchartButtonEl.disabled = true;  // To prevent multiple clicks.\n",
              "      quickchartButtonEl.classList.add('colab-df-spinner');\n",
              "      try {\n",
              "        const charts = await google.colab.kernel.invokeFunction(\n",
              "            'suggestCharts', [key], {});\n",
              "      } catch (error) {\n",
              "        console.error('Error during call to suggestCharts:', error);\n",
              "      }\n",
              "      quickchartButtonEl.classList.remove('colab-df-spinner');\n",
              "      quickchartButtonEl.classList.add('colab-df-quickchart-complete');\n",
              "    }\n",
              "    (() => {\n",
              "      let quickchartButtonEl =\n",
              "        document.querySelector('#df-2b08e299-9b23-4795-9dd0-34a86cc11467 button');\n",
              "      quickchartButtonEl.style.display =\n",
              "        google.colab.kernel.accessAllowed ? 'block' : 'none';\n",
              "    })();\n",
              "  </script>\n",
              "</div>\n",
              "\n",
              "  <div id=\"id_2c302ad1-cb1d-4fd0-8790-f31edfa6be02\">\n",
              "    <style>\n",
              "      .colab-df-generate {\n",
              "        background-color: #E8F0FE;\n",
              "        border: none;\n",
              "        border-radius: 50%;\n",
              "        cursor: pointer;\n",
              "        display: none;\n",
              "        fill: #1967D2;\n",
              "        height: 32px;\n",
              "        padding: 0 0 0 0;\n",
              "        width: 32px;\n",
              "      }\n",
              "\n",
              "      .colab-df-generate:hover {\n",
              "        background-color: #E2EBFA;\n",
              "        box-shadow: 0px 1px 2px rgba(60, 64, 67, 0.3), 0px 1px 3px 1px rgba(60, 64, 67, 0.15);\n",
              "        fill: #174EA6;\n",
              "      }\n",
              "\n",
              "      [theme=dark] .colab-df-generate {\n",
              "        background-color: #3B4455;\n",
              "        fill: #D2E3FC;\n",
              "      }\n",
              "\n",
              "      [theme=dark] .colab-df-generate:hover {\n",
              "        background-color: #434B5C;\n",
              "        box-shadow: 0px 1px 3px 1px rgba(0, 0, 0, 0.15);\n",
              "        filter: drop-shadow(0px 1px 2px rgba(0, 0, 0, 0.3));\n",
              "        fill: #FFFFFF;\n",
              "      }\n",
              "    </style>\n",
              "    <button class=\"colab-df-generate\" onclick=\"generateWithVariable('df')\"\n",
              "            title=\"Generate code using this dataframe.\"\n",
              "            style=\"display:none;\">\n",
              "\n",
              "  <svg xmlns=\"http://www.w3.org/2000/svg\" height=\"24px\"viewBox=\"0 0 24 24\"\n",
              "       width=\"24px\">\n",
              "    <path d=\"M7,19H8.4L18.45,9,17,7.55,7,17.6ZM5,21V16.75L18.45,3.32a2,2,0,0,1,2.83,0l1.4,1.43a1.91,1.91,0,0,1,.58,1.4,1.91,1.91,0,0,1-.58,1.4L9.25,21ZM18.45,9,17,7.55Zm-12,3A5.31,5.31,0,0,0,4.9,8.1,5.31,5.31,0,0,0,1,6.5,5.31,5.31,0,0,0,4.9,4.9,5.31,5.31,0,0,0,6.5,1,5.31,5.31,0,0,0,8.1,4.9,5.31,5.31,0,0,0,12,6.5,5.46,5.46,0,0,0,6.5,12Z\"/>\n",
              "  </svg>\n",
              "    </button>\n",
              "    <script>\n",
              "      (() => {\n",
              "      const buttonEl =\n",
              "        document.querySelector('#id_2c302ad1-cb1d-4fd0-8790-f31edfa6be02 button.colab-df-generate');\n",
              "      buttonEl.style.display =\n",
              "        google.colab.kernel.accessAllowed ? 'block' : 'none';\n",
              "\n",
              "      buttonEl.onclick = () => {\n",
              "        google.colab.notebook.generateWithVariable('df');\n",
              "      }\n",
              "      })();\n",
              "    </script>\n",
              "  </div>\n",
              "\n",
              "    </div>\n",
              "  </div>\n"
            ],
            "application/vnd.google.colaboratory.intrinsic+json": {
              "type": "dataframe",
              "variable_name": "df"
            }
          },
          "metadata": {},
          "execution_count": 6
        }
      ]
    },
    {
      "cell_type": "code",
      "source": [
        "from pyspark.sql import SparkSession\n",
        "\n",
        "# Cria uma SparkSession\n",
        "spark = SparkSession.builder \\\n",
        "    .appName(\"testespark\") \\\n",
        "    .getOrCreate()\n",
        "\n",
        "print(\"SparkSession criada com sucesso!\")\n"
      ],
      "metadata": {
        "colab": {
          "base_uri": "https://localhost:8080/"
        },
        "id": "Z3WKSVxjEP9s",
        "outputId": "8b1173ef-0c95-41fa-8591-9a6f77f6b8af"
      },
      "execution_count": null,
      "outputs": [
        {
          "output_type": "stream",
          "name": "stdout",
          "text": [
            "SparkSession criada com sucesso!\n"
          ]
        }
      ]
    },
    {
      "cell_type": "code",
      "source": [
        "!pip install pyspark"
      ],
      "metadata": {
        "colab": {
          "base_uri": "https://localhost:8080/"
        },
        "id": "xoBbV2ftETsi",
        "outputId": "55d2c120-4f5d-42e2-8a0d-3aedcc1a1398"
      },
      "execution_count": null,
      "outputs": [
        {
          "output_type": "stream",
          "name": "stdout",
          "text": [
            "Requirement already satisfied: pyspark in /usr/local/lib/python3.10/dist-packages (3.5.3)\n",
            "Requirement already satisfied: py4j==0.10.9.7 in /usr/local/lib/python3.10/dist-packages (from pyspark) (0.10.9.7)\n"
          ]
        }
      ]
    },
    {
      "cell_type": "code",
      "source": [
        "df = spark.read.format(\"csv\")\\\n",
        ".option(\"header\", \"True\")\\\n",
        ".option(\"inferSchema\",\"True\")\\\n",
        ".load(\"utlc_apps.csv\"/*.csv\")"
      ],
      "metadata": {
        "colab": {
          "base_uri": "https://localhost:8080/",
          "height": 106
        },
        "id": "U5fuV9g0Ffrc",
        "outputId": "974579f5-bcfb-4289-da7a-947c36ea31b6"
      },
      "execution_count": null,
      "outputs": [
        {
          "output_type": "error",
          "ename": "SyntaxError",
          "evalue": "unterminated string literal (detected at line 4) (<ipython-input-8-0abca51d1141>, line 4)",
          "traceback": [
            "\u001b[0;36m  File \u001b[0;32m\"<ipython-input-8-0abca51d1141>\"\u001b[0;36m, line \u001b[0;32m4\u001b[0m\n\u001b[0;31m    .load(\"utlc_apps.csv\"/*.csv\")\u001b[0m\n\u001b[0m                               ^\u001b[0m\n\u001b[0;31mSyntaxError\u001b[0m\u001b[0;31m:\u001b[0m unterminated string literal (detected at line 4)\n"
          ]
        }
      ]
    },
    {
      "cell_type": "code",
      "source": [
        "df = spark.read.format(\"csv\") \\\n",
        "    .option(\"header\", \"True\") \\\n",
        "    .option(\"inferSchema\", \"True\") \\\n",
        "    .load(\"utlc_apps.csv\")\n",
        "\n",
        "df.show(10)  # Exibe as primeiras linhas do DataFrame\n"
      ],
      "metadata": {
        "colab": {
          "base_uri": "https://localhost:8080/"
        },
        "id": "uRNrLTo1FuEC",
        "outputId": "fc95ec8c-a748-4415-e56b-1eaddfdd6785"
      },
      "execution_count": null,
      "outputs": [
        {
          "output_type": "stream",
          "name": "stdout",
          "text": [
            "+--------------+--------------------+---------------------+---------------------+--------+------+--------------+------------+\n",
            "|original_index|         review_text|review_text_processed|review_text_tokenized|polarity|rating|kfold_polarity|kfold_rating|\n",
            "+--------------+--------------------+---------------------+---------------------+--------+------+--------------+------------+\n",
            "|       2483729|   eu curtindo muito|    eu curtindo muito| ['eu', 'curtindo'...|     1.0|   5.0|             1|           1|\n",
            "|       2865805|Aplicativo absurd...| aplicativo absurd...| ['aplicativo', 'a...|     0.0|   1.0|             1|           1|\n",
            "|       2734161|Não é mais tão si...| nao e mais tao si...| ['nao', 'mais', '...|     1.0|   4.0|             1|           1|\n",
            "|       2066362|Estava com um pro...| estava com um pro...| ['estava', 'com',...|     1.0|   5.0|             1|           1|\n",
            "|       2521806|Eu gostei muito d...| eu gostei muito d...| ['eu', 'gostei', ...|     1.0|   5.0|             1|           1|\n",
            "|       2403779|Já cancelei a ass...| ja cancelei a ass...| ['ja', 'cancelei'...|     0.0|   2.0|             1|           1|\n",
            "|       2118498|Provável substitu...| provavel substitu...| ['provavel', 'sub...|     1.0|   4.0|             1|           1|\n",
            "|       2384648|              adorei|               adorei|           ['adorei']|     1.0|   5.0|             1|           1|\n",
            "|       1961597|           Muito bom|            muito bom|     ['muito', 'bom']|     1.0|   4.0|             1|           1|\n",
            "|       2356071|                 Bom|                  bom|              ['bom']|     1.0|   5.0|             1|           1|\n",
            "+--------------+--------------------+---------------------+---------------------+--------+------+--------------+------------+\n",
            "only showing top 10 rows\n",
            "\n"
          ]
        }
      ]
    },
    {
      "cell_type": "code",
      "source": [
        "df.count()"
      ],
      "metadata": {
        "colab": {
          "base_uri": "https://localhost:8080/"
        },
        "id": "29vHBaO2GBf3",
        "outputId": "e62c59de-2f2f-4634-8834-183a8d91feb5"
      },
      "execution_count": null,
      "outputs": [
        {
          "output_type": "execute_result",
          "data": {
            "text/plain": [
              "1039535"
            ]
          },
          "metadata": {},
          "execution_count": 11
        }
      ]
    },
    {
      "cell_type": "code",
      "source": [
        "df.head(10)"
      ],
      "metadata": {
        "colab": {
          "base_uri": "https://localhost:8080/"
        },
        "id": "HudvS9fSGJN1",
        "outputId": "2adea28d-21e4-4ba0-d42b-030836ce5c42"
      },
      "execution_count": null,
      "outputs": [
        {
          "output_type": "execute_result",
          "data": {
            "text/plain": [
              "[Row(original_index=2483729, review_text='eu curtindo muito', review_text_processed='eu curtindo muito', review_text_tokenized=\"['eu', 'curtindo', 'muito']\", polarity='1.0', rating='5.0', kfold_polarity='1', kfold_rating='1'),\n",
              " Row(original_index=2865805, review_text='Aplicativo absurdamente caro e o valor para se tornar prêmio é ainda muito mais caro. Joguei dinheiro no lixo', review_text_processed='aplicativo absurdamente caro e o valor para se tornar premio e ainda muito mais caro. joguei dinheiro no lixo', review_text_tokenized=\"['aplicativo', 'absurdamente', 'caro', 'valor', 'para', 'se', 'tornar', 'premio', 'ainda', 'muito', 'mais', 'caro', 'joguei', 'dinheiro', 'no', 'lixo']\", polarity='0.0', rating='1.0', kfold_polarity='1', kfold_rating='1'),\n",
              " Row(original_index=2734161, review_text='Não é mais tão simples com o novo layout', review_text_processed='nao e mais tao simples com o novo layout', review_text_tokenized=\"['nao', 'mais', 'tao', 'simples', 'com', 'novo', 'layout']\", polarity='1.0', rating='4.0', kfold_polarity='1', kfold_rating='1'),\n",
              " Row(original_index=2066362, review_text='Estava com um problema para acessar, porém consegui resolver pelo fone fácil. Ótimo app', review_text_processed='estava com um problema para acessar, porem consegui resolver pelo fone facil. otimo app', review_text_tokenized=\"['estava', 'com', 'um', 'problema', 'para', 'acessar', 'porem', 'consegui', 'resolver', 'pelo', 'fone', 'facil', 'otimo', 'app']\", polarity='1.0', rating='5.0', kfold_polarity='1', kfold_rating='1'),\n",
              " Row(original_index=2521806, review_text='Eu gostei muito do jogo tenho no celular da minha mãe e no meu celular no meu ela já tem 7 anos no da minha mãe ainda está parabéns para os criadores adorei', review_text_processed='eu gostei muito do jogo tenho no celular da minha mae e no meu celular no meu ela ja tem 7 anos no da minha mae ainda esta parabens para os criadores adorei', review_text_tokenized=\"['eu', 'gostei', 'muito', 'do', 'jogo', 'tenho', 'no', 'celular', 'da', 'minha', 'mae', 'no', 'meu', 'celular', 'no', 'meu', 'ela', 'ja', 'tem', 'anos', 'no', 'da', 'minha', 'mae', 'ainda', 'esta', 'parabens', 'para', 'os', 'criadores', 'adorei']\", polarity='1.0', rating='5.0', kfold_polarity='1', kfold_rating='1'),\n",
              " Row(original_index=2403779, review_text='Já cancelei a assinatura pelo site como mandam mas ainda estão cobrando as mensalidades.', review_text_processed='ja cancelei a assinatura pelo site como mandam mas ainda estao cobrando as mensalidades.', review_text_tokenized=\"['ja', 'cancelei', 'assinatura', 'pelo', 'site', 'como', 'mandam', 'mas', 'ainda', 'estao', 'cobrando', 'as', 'mensalidades']\", polarity='0.0', rating='2.0', kfold_polarity='1', kfold_rating='1'),\n",
              " Row(original_index=2118498, review_text='Provável substituto do google reader..', review_text_processed='provavel substituto do google reader..', review_text_tokenized=\"['provavel', 'substituto', 'do', 'google', 'reader']\", polarity='1.0', rating='4.0', kfold_polarity='1', kfold_rating='1'),\n",
              " Row(original_index=2384648, review_text='adorei', review_text_processed='adorei', review_text_tokenized=\"['adorei']\", polarity='1.0', rating='5.0', kfold_polarity='1', kfold_rating='1'),\n",
              " Row(original_index=1961597, review_text='Muito bom', review_text_processed='muito bom', review_text_tokenized=\"['muito', 'bom']\", polarity='1.0', rating='4.0', kfold_polarity='1', kfold_rating='1'),\n",
              " Row(original_index=2356071, review_text='Bom', review_text_processed='bom', review_text_tokenized=\"['bom']\", polarity='1.0', rating='5.0', kfold_polarity='1', kfold_rating='1')]"
            ]
          },
          "metadata": {},
          "execution_count": 14
        }
      ]
    },
    {
      "cell_type": "code",
      "source": [
        "df.write.format(\"parquet\")\\\n",
        ".mode(\"overwrite\")\\\n",
        ".save(\"utlc_apps.parquet\")"
      ],
      "metadata": {
        "id": "BLb-BH25HDg0"
      },
      "execution_count": null,
      "outputs": []
    },
    {
      "cell_type": "code",
      "source": [
        "df_parquet = spark.read.format(\"parquet\")\\\n",
        ".load(\"utlc_apps.parquet\")"
      ],
      "metadata": {
        "id": "CNe2aU1uHeFi"
      },
      "execution_count": null,
      "outputs": []
    },
    {
      "cell_type": "code",
      "source": [
        "df_parquet.count()"
      ],
      "metadata": {
        "colab": {
          "base_uri": "https://localhost:8080/"
        },
        "id": "rMCjXQIXHnyx",
        "outputId": "efeef441-de0f-41bd-abf4-2412a1737895"
      },
      "execution_count": null,
      "outputs": [
        {
          "output_type": "execute_result",
          "data": {
            "text/plain": [
              "1039535"
            ]
          },
          "metadata": {},
          "execution_count": 18
        }
      ]
    },
    {
      "cell_type": "code",
      "source": [
        "df_parquet.show(5)"
      ],
      "metadata": {
        "colab": {
          "base_uri": "https://localhost:8080/"
        },
        "id": "QSB9ptW4Hxu-",
        "outputId": "9490cb59-04a6-45d6-ec5a-cb0b21487355"
      },
      "execution_count": null,
      "outputs": [
        {
          "output_type": "stream",
          "name": "stdout",
          "text": [
            "+--------------+--------------------+---------------------+---------------------+--------+------+--------------+------------+\n",
            "|original_index|         review_text|review_text_processed|review_text_tokenized|polarity|rating|kfold_polarity|kfold_rating|\n",
            "+--------------+--------------------+---------------------+---------------------+--------+------+--------------+------------+\n",
            "|       2483729|   eu curtindo muito|    eu curtindo muito| ['eu', 'curtindo'...|     1.0|   5.0|             1|           1|\n",
            "|       2865805|Aplicativo absurd...| aplicativo absurd...| ['aplicativo', 'a...|     0.0|   1.0|             1|           1|\n",
            "|       2734161|Não é mais tão si...| nao e mais tao si...| ['nao', 'mais', '...|     1.0|   4.0|             1|           1|\n",
            "|       2066362|Estava com um pro...| estava com um pro...| ['estava', 'com',...|     1.0|   5.0|             1|           1|\n",
            "|       2521806|Eu gostei muito d...| eu gostei muito d...| ['eu', 'gostei', ...|     1.0|   5.0|             1|           1|\n",
            "+--------------+--------------------+---------------------+---------------------+--------+------+--------------+------------+\n",
            "only showing top 5 rows\n",
            "\n"
          ]
        }
      ]
    },
    {
      "cell_type": "code",
      "source": [
        "pip install pyodbc"
      ],
      "metadata": {
        "colab": {
          "base_uri": "https://localhost:8080/"
        },
        "id": "wnNbbD733WBJ",
        "outputId": "8c2a8c59-91c6-46fd-bdca-2dfd50132781"
      },
      "execution_count": null,
      "outputs": [
        {
          "output_type": "stream",
          "name": "stdout",
          "text": [
            "Collecting pyodbc\n",
            "  Downloading pyodbc-5.2.0-cp311-cp311-manylinux_2_17_x86_64.manylinux2014_x86_64.whl.metadata (2.7 kB)\n",
            "Downloading pyodbc-5.2.0-cp311-cp311-manylinux_2_17_x86_64.manylinux2014_x86_64.whl (346 kB)\n",
            "\u001b[?25l   \u001b[90m━━━━━━━━━━━━━━━━━━━━━━━━━━━━━━━━━━━━━━━━\u001b[0m \u001b[32m0.0/346.2 kB\u001b[0m \u001b[31m?\u001b[0m eta \u001b[36m-:--:--\u001b[0m\r\u001b[2K   \u001b[91m━━━━━━━━━━━━━━━━\u001b[0m\u001b[91m╸\u001b[0m\u001b[90m━━━━━━━━━━━━━━━━━━━━━━━\u001b[0m \u001b[32m143.4/346.2 kB\u001b[0m \u001b[31m4.1 MB/s\u001b[0m eta \u001b[36m0:00:01\u001b[0m\r\u001b[2K   \u001b[91m━━━━━━━━━━━━━━━━━━━━━━━━━━━━━━━━━━━━━━━\u001b[0m\u001b[90m╺\u001b[0m \u001b[32m337.9/346.2 kB\u001b[0m \u001b[31m6.1 MB/s\u001b[0m eta \u001b[36m0:00:01\u001b[0m\r\u001b[2K   \u001b[90m━━━━━━━━━━━━━━━━━━━━━━━━━━━━━━━━━━━━━━━━\u001b[0m \u001b[32m346.2/346.2 kB\u001b[0m \u001b[31m4.0 MB/s\u001b[0m eta \u001b[36m0:00:00\u001b[0m\n",
            "\u001b[?25hInstalling collected packages: pyodbc\n",
            "Successfully installed pyodbc-5.2.0\n"
          ]
        }
      ]
    },
    {
      "cell_type": "code",
      "source": [
        "import pyodbc\n",
        "import pandas as pd\n",
        "\n",
        "dados_conexao = (\n",
        "    \"Driver={SQL SERVER};\"\n",
        "    \"SEVER=LUCAS;\"\n",
        "    \"DATABASE=Contoso\"\n",
        "\n",
        ")\n",
        "\n",
        "\n",
        "\n",
        "conexao = pyodbc.connect(dados_conexao)\n",
        "print(\"Tudo Ok\")"
      ],
      "metadata": {
        "colab": {
          "base_uri": "https://localhost:8080/",
          "height": 193
        },
        "id": "NdSvbI8n4lHx",
        "outputId": "00d50f78-fd16-405f-dcf9-b605ac40ac57"
      },
      "execution_count": null,
      "outputs": [
        {
          "output_type": "error",
          "ename": "Error",
          "evalue": "('01000', \"[01000] [unixODBC][Driver Manager]Can't open lib 'SQL SERVER' : file not found (0) (SQLDriverConnect)\")",
          "traceback": [
            "\u001b[0;31m---------------------------------------------------------------------------\u001b[0m",
            "\u001b[0;31mError\u001b[0m                                     Traceback (most recent call last)",
            "\u001b[0;32m<ipython-input-8-82eae8a61f10>\u001b[0m in \u001b[0;36m<cell line: 0>\u001b[0;34m()\u001b[0m\n\u001b[1;32m     11\u001b[0m \u001b[0;34m\u001b[0m\u001b[0m\n\u001b[1;32m     12\u001b[0m \u001b[0;34m\u001b[0m\u001b[0m\n\u001b[0;32m---> 13\u001b[0;31m \u001b[0mconexao\u001b[0m \u001b[0;34m=\u001b[0m \u001b[0mpyodbc\u001b[0m\u001b[0;34m.\u001b[0m\u001b[0mconnect\u001b[0m\u001b[0;34m(\u001b[0m\u001b[0mdados_conexao\u001b[0m\u001b[0;34m)\u001b[0m\u001b[0;34m\u001b[0m\u001b[0;34m\u001b[0m\u001b[0m\n\u001b[0m\u001b[1;32m     14\u001b[0m \u001b[0mprint\u001b[0m\u001b[0;34m(\u001b[0m\u001b[0;34m\"Tudo Ok\"\u001b[0m\u001b[0;34m)\u001b[0m\u001b[0;34m\u001b[0m\u001b[0;34m\u001b[0m\u001b[0m\n",
            "\u001b[0;31mError\u001b[0m: ('01000', \"[01000] [unixODBC][Driver Manager]Can't open lib 'SQL SERVER' : file not found (0) (SQLDriverConnect)\")"
          ]
        }
      ]
    },
    {
      "source": [
        "!apt-get update\n",
        "!apt-get install -y unixodbc-dev\n",
        "!apt-get install -y msodbcsql17\n",
        "!apt-get install -y tdsodbc\n",
        "\n",
        "import pyodbc\n",
        "import pandas as pd\n",
        "\n",
        "dados_conexao = (\n",
        "    \"Driver={ODBC Driver 17 for SQL Server};\"  # Changed driver name\n",
        "    \"Server=LUCAS;\"  # Corrected 'SEVER' to 'Server'\n",
        "    \"Database=Contoso;\" # Added semicolon\n",
        "    \"UID=<your_username>;\"  # Replace with your SQL Server username\n",
        "    \"PWD=<your_password>\"  # Replace with your SQL Server password\n",
        ")\n",
        "\n",
        "conexao = pyodbc.connect(dados_conexao)\n",
        "print(\"Tudo Ok\")"
      ],
      "cell_type": "code",
      "metadata": {
        "colab": {
          "base_uri": "https://localhost:8080/",
          "height": 1000
        },
        "id": "DR0UHlRa7eFc",
        "outputId": "6f86f0f1-65eb-44a3-cdaa-99a3a38e3017"
      },
      "execution_count": null,
      "outputs": [
        {
          "output_type": "stream",
          "name": "stdout",
          "text": [
            "\r0% [Working]\r            \rHit:1 http://security.ubuntu.com/ubuntu jammy-security InRelease\n",
            "\r0% [Waiting for headers] [Connected to cloud.r-project.org (18.160.213.93)] [Connected to r2u.stat.i\r                                                                                                    \rHit:2 https://cloud.r-project.org/bin/linux/ubuntu jammy-cran40/ InRelease\n",
            "\r0% [Waiting for headers] [Connected to r2u.stat.illinois.edu (192.17.190.167)] [Connected to develop\r                                                                                                    \rHit:3 https://developer.download.nvidia.com/compute/cuda/repos/ubuntu2204/x86_64  InRelease\n",
            "Hit:4 https://r2u.stat.illinois.edu/ubuntu jammy InRelease\n",
            "Hit:5 https://ppa.launchpadcontent.net/deadsnakes/ppa/ubuntu jammy InRelease\n",
            "Hit:6 https://ppa.launchpadcontent.net/graphics-drivers/ppa/ubuntu jammy InRelease\n",
            "Hit:7 https://ppa.launchpadcontent.net/ubuntugis/ppa/ubuntu jammy InRelease\n",
            "Hit:8 http://archive.ubuntu.com/ubuntu jammy InRelease\n",
            "Hit:9 http://archive.ubuntu.com/ubuntu jammy-updates InRelease\n",
            "Hit:10 http://archive.ubuntu.com/ubuntu jammy-backports InRelease\n",
            "Reading package lists... Done\n",
            "W: Skipping acquire of configured file 'main/source/Sources' as repository 'https://r2u.stat.illinois.edu/ubuntu jammy InRelease' does not seem to provide it (sources.list entry misspelt?)\n",
            "Reading package lists... Done\n",
            "Building dependency tree... Done\n",
            "Reading state information... Done\n",
            "unixodbc-dev is already the newest version (2.3.9-5ubuntu0.1).\n",
            "0 upgraded, 0 newly installed, 0 to remove and 56 not upgraded.\n",
            "Reading package lists... Done\n",
            "Building dependency tree... Done\n",
            "Reading state information... Done\n",
            "E: Unable to locate package msodbcsql17\n",
            "Reading package lists... Done\n",
            "Building dependency tree... Done\n",
            "Reading state information... Done\n",
            "The following additional packages will be installed:\n",
            "  freetds-common libodbc1\n",
            "The following NEW packages will be installed:\n",
            "  freetds-common libodbc1 tdsodbc\n",
            "0 upgraded, 3 newly installed, 0 to remove and 56 not upgraded.\n",
            "Need to get 234 kB of archives.\n",
            "After this operation, 598 kB of additional disk space will be used.\n",
            "Get:1 http://archive.ubuntu.com/ubuntu jammy/main amd64 freetds-common all 1.3.6-1 [26.3 kB]\n",
            "Get:2 http://archive.ubuntu.com/ubuntu jammy-updates/main amd64 libodbc1 amd64 2.3.9-5ubuntu0.1 [2,546 B]\n",
            "Get:3 http://archive.ubuntu.com/ubuntu jammy/main amd64 tdsodbc amd64 1.3.6-1 [206 kB]\n",
            "Fetched 234 kB in 0s (922 kB/s)\n",
            "Preconfiguring packages ...\n",
            "Selecting previously unselected package freetds-common.\n",
            "(Reading database ... 124565 files and directories currently installed.)\n",
            "Preparing to unpack .../freetds-common_1.3.6-1_all.deb ...\n",
            "Unpacking freetds-common (1.3.6-1) ...\n",
            "Selecting previously unselected package libodbc1:amd64.\n",
            "Preparing to unpack .../libodbc1_2.3.9-5ubuntu0.1_amd64.deb ...\n",
            "Unpacking libodbc1:amd64 (2.3.9-5ubuntu0.1) ...\n",
            "Selecting previously unselected package tdsodbc:amd64.\n",
            "Preparing to unpack .../tdsodbc_1.3.6-1_amd64.deb ...\n",
            "Unpacking tdsodbc:amd64 (1.3.6-1) ...\n",
            "Setting up libodbc1:amd64 (2.3.9-5ubuntu0.1) ...\n",
            "Setting up freetds-common (1.3.6-1) ...\n",
            "Setting up tdsodbc:amd64 (1.3.6-1) ...\n",
            "Processing triggers for man-db (2.10.2-1) ...\n"
          ]
        },
        {
          "output_type": "error",
          "ename": "Error",
          "evalue": "('01000', \"[01000] [unixODBC][Driver Manager]Can't open lib 'ODBC Driver 17 for SQL Server' : file not found (0) (SQLDriverConnect)\")",
          "traceback": [
            "\u001b[0;31m---------------------------------------------------------------------------\u001b[0m",
            "\u001b[0;31mError\u001b[0m                                     Traceback (most recent call last)",
            "\u001b[0;32m<ipython-input-9-3243c6aff43b>\u001b[0m in \u001b[0;36m<cell line: 0>\u001b[0;34m()\u001b[0m\n\u001b[1;32m     15\u001b[0m )\n\u001b[1;32m     16\u001b[0m \u001b[0;34m\u001b[0m\u001b[0m\n\u001b[0;32m---> 17\u001b[0;31m \u001b[0mconexao\u001b[0m \u001b[0;34m=\u001b[0m \u001b[0mpyodbc\u001b[0m\u001b[0;34m.\u001b[0m\u001b[0mconnect\u001b[0m\u001b[0;34m(\u001b[0m\u001b[0mdados_conexao\u001b[0m\u001b[0;34m)\u001b[0m\u001b[0;34m\u001b[0m\u001b[0;34m\u001b[0m\u001b[0m\n\u001b[0m\u001b[1;32m     18\u001b[0m \u001b[0mprint\u001b[0m\u001b[0;34m(\u001b[0m\u001b[0;34m\"Tudo Ok\"\u001b[0m\u001b[0;34m)\u001b[0m\u001b[0;34m\u001b[0m\u001b[0;34m\u001b[0m\u001b[0m\n",
            "\u001b[0;31mError\u001b[0m: ('01000', \"[01000] [unixODBC][Driver Manager]Can't open lib 'ODBC Driver 17 for SQL Server' : file not found (0) (SQLDriverConnect)\")"
          ]
        }
      ]
    },
    {
      "source": [
        "import pyodbc\n",
        "import pandas as pd\n",
        "import pyodbc\n",
        "import pandas as pd\n",
        "\n",
        "# Try ODBC Driver 17 first\n",
        "dados_conexao = (\n",
        "    \"Driver={ODBC Driver 18 for SQL Server};\"\n",
        "    \"Server=LUCAS;\"\n",
        "    \"Database=\"\n",
        ")\n",
        "\n",
        "# Try ODBC Driver 17 first\n",
        "dados_conexao = (\n",
        "    \"Driver={ODBC Driver 18 for SQL Server};\"\n",
        "    \"Server=LUCAS;\"\n",
        "    \"Database=Contoso\"\n",
        ")"
      ],
      "cell_type": "code",
      "metadata": {
        "id": "31ktGLMj7oSb"
      },
      "execution_count": null,
      "outputs": []
    },
    {
      "cell_type": "code",
      "source": [
        "conexao = pyodbc.connect(dados_conexao)\n",
        "print(\"Tudo Ok\")"
      ],
      "metadata": {
        "colab": {
          "base_uri": "https://localhost:8080/",
          "height": 159
        },
        "id": "s03N03tA8GFN",
        "outputId": "4fd6c752-bbf9-429a-92e8-8ceebb5e0b54"
      },
      "execution_count": null,
      "outputs": [
        {
          "output_type": "error",
          "ename": "Error",
          "evalue": "('01000', \"[01000] [unixODBC][Driver Manager]Can't open lib 'ODBC Driver 18 for SQL Server' : file not found (0) (SQLDriverConnect)\")",
          "traceback": [
            "\u001b[0;31m---------------------------------------------------------------------------\u001b[0m",
            "\u001b[0;31mError\u001b[0m                                     Traceback (most recent call last)",
            "\u001b[0;32m<ipython-input-16-2cebeea04eb2>\u001b[0m in \u001b[0;36m<cell line: 0>\u001b[0;34m()\u001b[0m\n\u001b[0;32m----> 1\u001b[0;31m \u001b[0mconexao\u001b[0m \u001b[0;34m=\u001b[0m \u001b[0mpyodbc\u001b[0m\u001b[0;34m.\u001b[0m\u001b[0mconnect\u001b[0m\u001b[0;34m(\u001b[0m\u001b[0mdados_conexao\u001b[0m\u001b[0;34m)\u001b[0m\u001b[0;34m\u001b[0m\u001b[0;34m\u001b[0m\u001b[0m\n\u001b[0m\u001b[1;32m      2\u001b[0m \u001b[0mprint\u001b[0m\u001b[0;34m(\u001b[0m\u001b[0;34m\"Tudo Ok\"\u001b[0m\u001b[0;34m)\u001b[0m\u001b[0;34m\u001b[0m\u001b[0;34m\u001b[0m\u001b[0m\n",
            "\u001b[0;31mError\u001b[0m: ('01000', \"[01000] [unixODBC][Driver Manager]Can't open lib 'ODBC Driver 18 for SQL Server' : file not found (0) (SQLDriverConnect)\")"
          ]
        }
      ]
    },
    {
      "source": [
        "!apt-get update\n",
        "!apt-get"
      ],
      "cell_type": "code",
      "metadata": {
        "colab": {
          "base_uri": "https://localhost:8080/"
        },
        "id": "u3a6CBnC8QPG",
        "outputId": "d64bede1-9f55-4da3-c547-4484c53c4a5f"
      },
      "execution_count": null,
      "outputs": [
        {
          "output_type": "stream",
          "name": "stdout",
          "text": [
            "Hit:1 http://archive.ubuntu.com/ubuntu jammy InRelease\n",
            "Hit:2 http://archive.ubuntu.com/ubuntu jammy-updates InRelease\n",
            "Hit:3 https://cloud.r-project.org/bin/linux/ubuntu jammy-cran40/ InRelease\n",
            "Hit:4 http://archive.ubuntu.com/ubuntu jammy-backports InRelease\n",
            "Get:5 http://security.ubuntu.com/ubuntu jammy-security InRelease [129 kB]\n",
            "Hit:6 https://r2u.stat.illinois.edu/ubuntu jammy InRelease\n",
            "Hit:7 https://developer.download.nvidia.com/compute/cuda/repos/ubuntu2204/x86_64  InRelease\n",
            "Hit:8 https://ppa.launchpadcontent.net/deadsnakes/ppa/ubuntu jammy InRelease\n",
            "Hit:9 https://ppa.launchpadcontent.net/graphics-drivers/ppa/ubuntu jammy InRelease\n",
            "Hit:10 https://ppa.launchpadcontent.net/ubuntugis/ppa/ubuntu jammy InRelease\n",
            "Fetched 129 kB in 2s (76.0 kB/s)\n",
            "Reading package lists... Done\n",
            "W: Skipping acquire of configured file 'main/source/Sources' as repository 'https://r2u.stat.illinois.edu/ubuntu jammy InRelease' does not seem to provide it (sources.list entry misspelt?)\n",
            "apt 2.4.13 (amd64)\n",
            "Usage: apt-get [options] command\n",
            "       apt-get [options] install|remove pkg1 [pkg2 ...]\n",
            "       apt-get [options] source pkg1 [pkg2 ...]\n",
            "\n",
            "apt-get is a command line interface for retrieval of packages\n",
            "and information about them from authenticated sources and\n",
            "for installation, upgrade and removal of packages together\n",
            "with their dependencies.\n",
            "\n",
            "Most used commands:\n",
            "  update - Retrieve new lists of packages\n",
            "  upgrade - Perform an upgrade\n",
            "  install - Install new packages (pkg is libc6 not libc6.deb)\n",
            "  reinstall - Reinstall packages (pkg is libc6 not libc6.deb)\n",
            "  remove - Remove packages\n",
            "  purge - Remove packages and config files\n",
            "  autoremove - Remove automatically all unused packages\n",
            "  dist-upgrade - Distribution upgrade, see apt-get(8)\n",
            "  dselect-upgrade - Follow dselect selections\n",
            "  build-dep - Configure build-dependencies for source packages\n",
            "  satisfy - Satisfy dependency strings\n",
            "  clean - Erase downloaded archive files\n",
            "  autoclean - Erase old downloaded archive files\n",
            "  check - Verify that there are no broken dependencies\n",
            "  source - Download source archives\n",
            "  download - Download the binary package into the current directory\n",
            "  changelog - Download and display the changelog for the given package\n",
            "\n",
            "See apt-get(8) for more information about the available commands.\n",
            "Configuration options and syntax is detailed in apt.conf(5).\n",
            "Information about how to configure sources can be found in sources.list(5).\n",
            "Package and version choices can be expressed via apt_preferences(5).\n",
            "Security details are available in apt-secure(8).\n",
            "                                        This APT has Super Cow Powers.\n"
          ]
        }
      ]
    },
    {
      "source": [
        "!pip install pyodbc\n",
        "\n",
        "import pyodbc\n",
        "import pandas as pd\n",
        "\n",
        "# Ensure you have the correct ODBC Driver 18 for SQL Server installed:\n",
        "#  - Download it from: https://learn.microsoft.com/en-us/sql/connect/odbc/download-odbc-driver-for-sql-server?view=sql-server-ver16\n",
        "\n",
        "# Check the driver name:\n",
        "#  - Go to Control Panel > Administrative Tools > ODBC Data Sources (64-bit)\n",
        "#  - Look for the installed SQL Server driver and note its exact name.\n",
        "\n",
        "# Update the connection string accordingly:\n",
        "dados_conexao = (\n",
        "    \"Driver={ODBC Driver 18 for SQL Server};\"  # Update with the correct driver name if needed\n",
        "    \"Server=LUCAS;\"\n",
        "    \"Database=Contoso;\"\n",
        "    \"UID=<your_username>;\"  # Replace with your SQL Server username\n",
        "    \"PWD=<your_password>\"  # Replace with your SQL Server password\n",
        "    \"Trusted_Connection=yes;\"\n",
        ")\n",
        "\n",
        "conexao = pyodbc.connect(dados_conexao)\n",
        "print(\"Tudo Ok\")"
      ],
      "cell_type": "code",
      "metadata": {
        "colab": {
          "base_uri": "https://localhost:8080/",
          "height": 211
        },
        "id": "ltGVRAhK8YAC",
        "outputId": "59fabd28-da0a-412c-a21a-e3bcfe4c5b3e"
      },
      "execution_count": null,
      "outputs": [
        {
          "output_type": "stream",
          "name": "stdout",
          "text": [
            "Requirement already satisfied: pyodbc in /usr/local/lib/python3.11/dist-packages (5.2.0)\n"
          ]
        },
        {
          "output_type": "error",
          "ename": "Error",
          "evalue": "('01000', \"[01000] [unixODBC][Driver Manager]Can't open lib 'ODBC Driver 18 for SQL Server' : file not found (0) (SQLDriverConnect)\")",
          "traceback": [
            "\u001b[0;31m---------------------------------------------------------------------------\u001b[0m",
            "\u001b[0;31mError\u001b[0m                                     Traceback (most recent call last)",
            "\u001b[0;32m<ipython-input-18-161703472a56>\u001b[0m in \u001b[0;36m<cell line: 0>\u001b[0;34m()\u001b[0m\n\u001b[1;32m     21\u001b[0m )\n\u001b[1;32m     22\u001b[0m \u001b[0;34m\u001b[0m\u001b[0m\n\u001b[0;32m---> 23\u001b[0;31m \u001b[0mconexao\u001b[0m \u001b[0;34m=\u001b[0m \u001b[0mpyodbc\u001b[0m\u001b[0;34m.\u001b[0m\u001b[0mconnect\u001b[0m\u001b[0;34m(\u001b[0m\u001b[0mdados_conexao\u001b[0m\u001b[0;34m)\u001b[0m\u001b[0;34m\u001b[0m\u001b[0;34m\u001b[0m\u001b[0m\n\u001b[0m\u001b[1;32m     24\u001b[0m \u001b[0mprint\u001b[0m\u001b[0;34m(\u001b[0m\u001b[0;34m\"Tudo Ok\"\u001b[0m\u001b[0;34m)\u001b[0m\u001b[0;34m\u001b[0m\u001b[0;34m\u001b[0m\u001b[0m\n",
            "\u001b[0;31mError\u001b[0m: ('01000', \"[01000] [unixODBC][Driver Manager]Can't open lib 'ODBC Driver 18 for SQL Server' : file not found (0) (SQLDriverConnect)\")"
          ]
        }
      ]
    },
    {
      "source": [
        "!pip install pyodbc\n",
        "!apt-get update\n",
        "!apt-get install -y unixodbc-dev\n",
        "!apt-get install -y msodbcsql17"
      ],
      "cell_type": "code",
      "metadata": {
        "colab": {
          "base_uri": "https://localhost:8080/"
        },
        "id": "XALrCfNv5xzM",
        "outputId": "80115ac0-9b68-4eb4-de4e-a8d0731708c8"
      },
      "execution_count": null,
      "outputs": [
        {
          "output_type": "stream",
          "name": "stdout",
          "text": [
            "Requirement already satisfied: pyodbc in /usr/local/lib/python3.11/dist-packages (5.2.0)\n",
            "Get:1 http://security.ubuntu.com/ubuntu jammy-security InRelease [129 kB]\n",
            "Get:2 https://cloud.r-project.org/bin/linux/ubuntu jammy-cran40/ InRelease [3,626 B]\n",
            "Get:3 https://r2u.stat.illinois.edu/ubuntu jammy InRelease [6,555 B]\n",
            "Hit:4 http://archive.ubuntu.com/ubuntu jammy InRelease\n",
            "Get:5 https://developer.download.nvidia.com/compute/cuda/repos/ubuntu2204/x86_64  InRelease [1,581 B]\n",
            "Get:6 http://archive.ubuntu.com/ubuntu jammy-updates InRelease [128 kB]\n",
            "Get:7 https://cloud.r-project.org/bin/linux/ubuntu jammy-cran40/ Packages [62.5 kB]\n",
            "Hit:8 https://ppa.launchpadcontent.net/deadsnakes/ppa/ubuntu jammy InRelease\n",
            "Hit:9 https://ppa.launchpadcontent.net/graphics-drivers/ppa/ubuntu jammy InRelease\n",
            "Get:10 http://security.ubuntu.com/ubuntu jammy-security/main amd64 Packages [2,560 kB]\n",
            "Hit:11 https://ppa.launchpadcontent.net/ubuntugis/ppa/ubuntu jammy InRelease\n",
            "Get:12 https://r2u.stat.illinois.edu/ubuntu jammy/main all Packages [8,602 kB]\n",
            "Get:13 http://security.ubuntu.com/ubuntu jammy-security/universe amd64 Packages [1,228 kB]\n",
            "Get:14 http://archive.ubuntu.com/ubuntu jammy-backports InRelease [127 kB]\n",
            "Get:15 https://developer.download.nvidia.com/compute/cuda/repos/ubuntu2204/x86_64  Packages [1,234 kB]\n",
            "Get:16 https://r2u.stat.illinois.edu/ubuntu jammy/main amd64 Packages [2,641 kB]\n",
            "Get:17 http://archive.ubuntu.com/ubuntu jammy-updates/universe amd64 Packages [1,519 kB]\n",
            "Get:18 http://archive.ubuntu.com/ubuntu jammy-updates/main amd64 Packages [2,859 kB]\n",
            "Fetched 21.1 MB in 3s (6,325 kB/s)\n",
            "Reading package lists... Done\n",
            "W: Skipping acquire of configured file 'main/source/Sources' as repository 'https://r2u.stat.illinois.edu/ubuntu jammy InRelease' does not seem to provide it (sources.list entry misspelt?)\n",
            "Reading package lists... Done\n",
            "Building dependency tree... Done\n",
            "Reading state information... Done\n",
            "unixodbc-dev is already the newest version (2.3.9-5ubuntu0.1).\n",
            "unixodbc-dev set to manually installed.\n",
            "0 upgraded, 0 newly installed, 0 to remove and 56 not upgraded.\n",
            "Reading package lists... Done\n",
            "Building dependency tree... Done\n",
            "Reading state information... Done\n",
            "E: Unable to locate package msodbcsql17\n"
          ]
        }
      ]
    },
    {
      "cell_type": "code",
      "source": [],
      "metadata": {
        "id": "6CsAtUIz4uYG"
      },
      "execution_count": null,
      "outputs": []
    },
    {
      "cell_type": "code",
      "source": [
        "import platform\n",
        "print(platform.architecture())\n"
      ],
      "metadata": {
        "colab": {
          "base_uri": "https://localhost:8080/"
        },
        "id": "gh_1L1xH-FpH",
        "outputId": "8d2121c6-879b-49c4-acac-016afb059a83"
      },
      "execution_count": null,
      "outputs": [
        {
          "output_type": "stream",
          "name": "stdout",
          "text": [
            "('64bit', 'ELF')\n"
          ]
        }
      ]
    },
    {
      "cell_type": "code",
      "source": [
        "dados_conexao = (\n",
        "    \"Driver={ODBC Driver 18 for SQL Server};\"\n",
        "    \"Server=SEU_SERVIDOR;\"\n",
        "    \"Database=SEU_BANCO_DE_DADOS;\"\n",
        "    \"UID=SEU_USUARIO;\"\n",
        "    \"PWD=SUA_SENHA;\"\n",
        "    \"Trusted_Connection=no;\"\n",
        ")\n"
      ],
      "metadata": {
        "id": "uRMrpHsW-K3Y"
      },
      "execution_count": null,
      "outputs": []
    },
    {
      "cell_type": "code",
      "source": [
        "import pyodbc\n",
        "\n",
        "try:\n",
        "    conn = pyodbc.connect(\n",
        "        \"Driver={ODBC Driver 18 for SQL Server};\"\n",
        "        \"Server=SEU_SERVIDOR;\"\n",
        "        \"Database=SEU_BANCO_DE_DADOS;\"\n",
        "        \"UID=SEU_USUARIO;\"\n",
        "        \"PWD=SUA_SENHA;\"\n",
        "        \"Trusted_Connection=no;\"\n",
        "    )\n",
        "    print(\"Conexão bem-sucedida!\")\n",
        "except pyodbc.Error as e:\n",
        "    print(\"Erro ao conectar:\", e)\n"
      ],
      "metadata": {
        "colab": {
          "base_uri": "https://localhost:8080/"
        },
        "id": "luEcyLw0-MgL",
        "outputId": "9007511f-7609-4fb7-cea2-81d5138cf486"
      },
      "execution_count": null,
      "outputs": [
        {
          "output_type": "stream",
          "name": "stdout",
          "text": [
            "Erro ao conectar: ('01000', \"[01000] [unixODBC][Driver Manager]Can't open lib 'ODBC Driver 18 for SQL Server' : file not found (0) (SQLDriverConnect)\")\n"
          ]
        }
      ]
    },
    {
      "cell_type": "code",
      "source": [
        "pip install PyMuPDF googletrans==4.0.0-rc1\n"
      ],
      "metadata": {
        "colab": {
          "base_uri": "https://localhost:8080/"
        },
        "id": "RXVFYf8kRK35",
        "outputId": "e3edc171-9d15-4291-b92b-5a0dc85ce3a4"
      },
      "execution_count": null,
      "outputs": [
        {
          "output_type": "stream",
          "name": "stdout",
          "text": [
            "Collecting PyMuPDF\n",
            "  Downloading pymupdf-1.25.2-cp39-abi3-manylinux2014_x86_64.manylinux_2_17_x86_64.whl.metadata (3.4 kB)\n",
            "Collecting googletrans==4.0.0-rc1\n",
            "  Downloading googletrans-4.0.0rc1.tar.gz (20 kB)\n",
            "  Preparing metadata (setup.py) ... \u001b[?25l\u001b[?25hdone\n",
            "Collecting httpx==0.13.3 (from googletrans==4.0.0-rc1)\n",
            "  Downloading httpx-0.13.3-py3-none-any.whl.metadata (25 kB)\n",
            "Requirement already satisfied: certifi in /usr/local/lib/python3.11/dist-packages (from httpx==0.13.3->googletrans==4.0.0-rc1) (2024.12.14)\n",
            "Collecting hstspreload (from httpx==0.13.3->googletrans==4.0.0-rc1)\n",
            "  Downloading hstspreload-2025.1.1-py3-none-any.whl.metadata (2.1 kB)\n",
            "Requirement already satisfied: sniffio in /usr/local/lib/python3.11/dist-packages (from httpx==0.13.3->googletrans==4.0.0-rc1) (1.3.1)\n",
            "Collecting chardet==3.* (from httpx==0.13.3->googletrans==4.0.0-rc1)\n",
            "  Downloading chardet-3.0.4-py2.py3-none-any.whl.metadata (3.2 kB)\n",
            "Collecting idna==2.* (from httpx==0.13.3->googletrans==4.0.0-rc1)\n",
            "  Downloading idna-2.10-py2.py3-none-any.whl.metadata (9.1 kB)\n",
            "Collecting rfc3986<2,>=1.3 (from httpx==0.13.3->googletrans==4.0.0-rc1)\n",
            "  Downloading rfc3986-1.5.0-py2.py3-none-any.whl.metadata (6.5 kB)\n",
            "Collecting httpcore==0.9.* (from httpx==0.13.3->googletrans==4.0.0-rc1)\n",
            "  Downloading httpcore-0.9.1-py3-none-any.whl.metadata (4.6 kB)\n",
            "Collecting h11<0.10,>=0.8 (from httpcore==0.9.*->httpx==0.13.3->googletrans==4.0.0-rc1)\n",
            "  Downloading h11-0.9.0-py2.py3-none-any.whl.metadata (8.1 kB)\n",
            "Collecting h2==3.* (from httpcore==0.9.*->httpx==0.13.3->googletrans==4.0.0-rc1)\n",
            "  Downloading h2-3.2.0-py2.py3-none-any.whl.metadata (32 kB)\n",
            "Collecting hyperframe<6,>=5.2.0 (from h2==3.*->httpcore==0.9.*->httpx==0.13.3->googletrans==4.0.0-rc1)\n",
            "  Downloading hyperframe-5.2.0-py2.py3-none-any.whl.metadata (7.2 kB)\n",
            "Collecting hpack<4,>=3.0 (from h2==3.*->httpcore==0.9.*->httpx==0.13.3->googletrans==4.0.0-rc1)\n",
            "  Downloading hpack-3.0.0-py2.py3-none-any.whl.metadata (7.0 kB)\n",
            "Downloading httpx-0.13.3-py3-none-any.whl (55 kB)\n",
            "\u001b[2K   \u001b[90m━━━━━━━━━━━━━━━━━━━━━━━━━━━━━━━━━━━━━━━━\u001b[0m \u001b[32m55.1/55.1 kB\u001b[0m \u001b[31m3.0 MB/s\u001b[0m eta \u001b[36m0:00:00\u001b[0m\n",
            "\u001b[?25hDownloading chardet-3.0.4-py2.py3-none-any.whl (133 kB)\n",
            "\u001b[2K   \u001b[90m━━━━━━━━━━━━━━━━━━━━━━━━━━━━━━━━━━━━━━━━\u001b[0m \u001b[32m133.4/133.4 kB\u001b[0m \u001b[31m2.9 MB/s\u001b[0m eta \u001b[36m0:00:00\u001b[0m\n",
            "\u001b[?25hDownloading httpcore-0.9.1-py3-none-any.whl (42 kB)\n",
            "\u001b[2K   \u001b[90m━━━━━━━━━━━━━━━━━━━━━━━━━━━━━━━━━━━━━━━━\u001b[0m \u001b[32m42.6/42.6 kB\u001b[0m \u001b[31m1.6 MB/s\u001b[0m eta \u001b[36m0:00:00\u001b[0m\n",
            "\u001b[?25hDownloading idna-2.10-py2.py3-none-any.whl (58 kB)\n",
            "\u001b[2K   \u001b[90m━━━━━━━━━━━━━━━━━━━━━━━━━━━━━━━━━━━━━━━━\u001b[0m \u001b[32m58.8/58.8 kB\u001b[0m \u001b[31m1.8 MB/s\u001b[0m eta \u001b[36m0:00:00\u001b[0m\n",
            "\u001b[?25hDownloading h2-3.2.0-py2.py3-none-any.whl (65 kB)\n",
            "\u001b[2K   \u001b[90m━━━━━━━━━━━━━━━━━━━━━━━━━━━━━━━━━━━━━━━━\u001b[0m \u001b[32m65.0/65.0 kB\u001b[0m \u001b[31m3.1 MB/s\u001b[0m eta \u001b[36m0:00:00\u001b[0m\n",
            "\u001b[?25hDownloading pymupdf-1.25.2-cp39-abi3-manylinux2014_x86_64.manylinux_2_17_x86_64.whl (20.0 MB)\n",
            "\u001b[2K   \u001b[90m━━━━━━━━━━━━━━━━━━━━━━━━━━━━━━━━━━━━━━━━\u001b[0m \u001b[32m20.0/20.0 MB\u001b[0m \u001b[31m22.5 MB/s\u001b[0m eta \u001b[36m0:00:00\u001b[0m\n",
            "\u001b[?25hDownloading rfc3986-1.5.0-py2.py3-none-any.whl (31 kB)\n",
            "Downloading hstspreload-2025.1.1-py3-none-any.whl (1.3 MB)\n",
            "\u001b[2K   \u001b[90m━━━━━━━━━━━━━━━━━━━━━━━━━━━━━━━━━━━━━━━━\u001b[0m \u001b[32m1.3/1.3 MB\u001b[0m \u001b[31m24.9 MB/s\u001b[0m eta \u001b[36m0:00:00\u001b[0m\n",
            "\u001b[?25hDownloading h11-0.9.0-py2.py3-none-any.whl (53 kB)\n",
            "\u001b[2K   \u001b[90m━━━━━━━━━━━━━━━━━━━━━━━━━━━━━━━━━━━━━━━━\u001b[0m \u001b[32m53.6/53.6 kB\u001b[0m \u001b[31m2.1 MB/s\u001b[0m eta \u001b[36m0:00:00\u001b[0m\n",
            "\u001b[?25hDownloading hpack-3.0.0-py2.py3-none-any.whl (38 kB)\n",
            "Downloading hyperframe-5.2.0-py2.py3-none-any.whl (12 kB)\n",
            "Building wheels for collected packages: googletrans\n",
            "  Building wheel for googletrans (setup.py) ... \u001b[?25l\u001b[?25hdone\n",
            "  Created wheel for googletrans: filename=googletrans-4.0.0rc1-py3-none-any.whl size=17397 sha256=2f17b77ac26ec3ce45cbb795fc6289431e1a5c29445bd8afbaec6b38c48e91db\n",
            "  Stored in directory: /root/.cache/pip/wheels/39/17/6f/66a045ea3d168826074691b4b787b8f324d3f646d755443fda\n",
            "Successfully built googletrans\n",
            "Installing collected packages: rfc3986, hyperframe, hpack, h11, chardet, PyMuPDF, idna, hstspreload, h2, httpcore, httpx, googletrans\n",
            "  Attempting uninstall: h11\n",
            "    Found existing installation: h11 0.14.0\n",
            "    Uninstalling h11-0.14.0:\n",
            "      Successfully uninstalled h11-0.14.0\n",
            "  Attempting uninstall: chardet\n",
            "    Found existing installation: chardet 5.2.0\n",
            "    Uninstalling chardet-5.2.0:\n",
            "      Successfully uninstalled chardet-5.2.0\n",
            "  Attempting uninstall: idna\n",
            "    Found existing installation: idna 3.10\n",
            "    Uninstalling idna-3.10:\n",
            "      Successfully uninstalled idna-3.10\n",
            "  Attempting uninstall: httpcore\n",
            "    Found existing installation: httpcore 1.0.7\n",
            "    Uninstalling httpcore-1.0.7:\n",
            "      Successfully uninstalled httpcore-1.0.7\n",
            "  Attempting uninstall: httpx\n",
            "    Found existing installation: httpx 0.28.1\n",
            "    Uninstalling httpx-0.28.1:\n",
            "      Successfully uninstalled httpx-0.28.1\n",
            "\u001b[31mERROR: pip's dependency resolver does not currently take into account all the packages that are installed. This behaviour is the source of the following dependency conflicts.\n",
            "openai 1.59.6 requires httpx<1,>=0.23.0, but you have httpx 0.13.3 which is incompatible.\n",
            "langsmith 0.2.10 requires httpx<1,>=0.23.0, but you have httpx 0.13.3 which is incompatible.\u001b[0m\u001b[31m\n",
            "\u001b[0mSuccessfully installed PyMuPDF-1.25.2 chardet-3.0.4 googletrans-4.0.0rc1 h11-0.9.0 h2-3.2.0 hpack-3.0.0 hstspreload-2025.1.1 httpcore-0.9.1 httpx-0.13.3 hyperframe-5.2.0 idna-2.10 rfc3986-1.5.0\n"
          ]
        }
      ]
    },
    {
      "cell_type": "code",
      "source": [
        "pip install translate pymupdf\n"
      ],
      "metadata": {
        "colab": {
          "base_uri": "https://localhost:8080/"
        },
        "id": "fYWhdNsRR18F",
        "outputId": "b016be29-0957-4aa5-eccc-2a20b2805551"
      },
      "execution_count": null,
      "outputs": [
        {
          "output_type": "stream",
          "name": "stdout",
          "text": [
            "Collecting translate\n",
            "  Downloading translate-3.6.1-py2.py3-none-any.whl.metadata (7.7 kB)\n",
            "Requirement already satisfied: pymupdf in /usr/local/lib/python3.11/dist-packages (1.25.2)\n",
            "Requirement already satisfied: click in /usr/local/lib/python3.11/dist-packages (from translate) (8.1.8)\n",
            "Requirement already satisfied: lxml in /usr/local/lib/python3.11/dist-packages (from translate) (5.3.0)\n",
            "Requirement already satisfied: requests in /usr/local/lib/python3.11/dist-packages (from translate) (2.32.3)\n",
            "Collecting libretranslatepy==2.1.1 (from translate)\n",
            "  Downloading libretranslatepy-2.1.1-py3-none-any.whl.metadata (233 bytes)\n",
            "Requirement already satisfied: charset-normalizer<4,>=2 in /usr/local/lib/python3.11/dist-packages (from requests->translate) (3.4.1)\n",
            "Requirement already satisfied: idna<4,>=2.5 in /usr/local/lib/python3.11/dist-packages (from requests->translate) (2.10)\n",
            "Requirement already satisfied: urllib3<3,>=1.21.1 in /usr/local/lib/python3.11/dist-packages (from requests->translate) (2.3.0)\n",
            "Requirement already satisfied: certifi>=2017.4.17 in /usr/local/lib/python3.11/dist-packages (from requests->translate) (2024.12.14)\n",
            "Downloading translate-3.6.1-py2.py3-none-any.whl (12 kB)\n",
            "Downloading libretranslatepy-2.1.1-py3-none-any.whl (3.2 kB)\n",
            "Installing collected packages: libretranslatepy, translate\n",
            "Successfully installed libretranslatepy-2.1.1 translate-3.6.1\n"
          ]
        }
      ]
    },
    {
      "cell_type": "code",
      "source": [
        "\n",
        "import fitz  # PyMuPDF\n",
        "from translate import Translator\n",
        "\n",
        "def traduzir_pdf(input_pdf, output_pdf, src_lang=\"en\", dest_lang=\"pt\"):\n",
        "    # Abrir o PDF\n",
        "    doc = fitz.open(input_pdf)\n",
        "    translator = Translator(from_lang=src_lang, to_lang=dest_lang)\n",
        "\n",
        "    # Criar um novo PDF\n",
        "    novo_pdf = fitz.open()\n",
        "\n",
        "    for num, pagina in enumerate(doc, start=1):\n",
        "        print(f\"Traduzindo página {num} de {len(doc)}...\")\n",
        "        texto = pagina.get_text()\n",
        "        if texto.strip():  # Traduzir somente se houver texto\n",
        "            try:\n",
        "                texto_traduzido = translator.translate(texto)\n",
        "            except Exception as e:\n",
        "                print(f\"Erro ao traduzir a página {num}: {e}\")\n",
        "                texto_traduzido = texto  # Manter o texto original em caso de erro\n",
        "\n",
        "            # Adicionar a página traduzida ao novo PDF\n",
        "            nova_pagina = novo_pdf.new_page(width=pagina.rect.width, height=pagina.rect.height)\n",
        "            nova_pagina.insert_text(fitz.Point(72, 72), texto_traduzido, fontsize=11)\n",
        "        else:\n",
        "            print(f\"Página {num} está vazia ou sem texto.\")\n",
        "\n",
        "    # Salvar o PDF traduzido\n",
        "    novo_pdf.save(output_pdf)\n",
        "```python\n",
        "import fitz  # PyMuPDF\n",
        "from translate import Translator\n",
        "\n",
        "def traduzir_pdf(input_pdf, output_pdf, src_lang=\"en\", dest_lang=\"pt\"):\n",
        "    # Abrir o PDF\n",
        "    doc = fitz.open(input_pdf)\n",
        "    translator = Translator(from_lang=src_lang, to_lang=dest_lang)\n",
        "\n",
        "    # Criar um novo PDF\n",
        "    novo_pdf = fitz.open()\n",
        "\n",
        "    for num, pagina in enumerate(doc, start=1):\n",
        "        print(f\"Traduzindo página {num} de {len(doc)}...\")\n",
        "        texto = pagina.get_text()\n",
        "        if texto.strip():  # Traduzir somente se houver texto\n",
        "            try:\n",
        "                texto_traduzido = translator.translate(texto)\n",
        "            except Exception as e:\n",
        "                print(f\"Erro ao traduzir a página {num}: {e}\")\n",
        "                texto_traduzido = texto  # Manter o texto original em caso de erro\n",
        "\n",
        "            # Adicionar a página traduzida ao novo PDF\n",
        "            nova_pagina = novo_pdf.new_page(width=pagina.rect.width, height=pagina.rect.height)\n",
        "            nova_pagina.insert_text(fitz.Point(72, 72), texto_traduzido, fontsize=11)\n",
        "        else:\n",
        "            print(f\"Página {num} está vazia ou sem texto.\")\n",
        "\n",
        "    # Salvar o PDF traduzido\n",
        "    novo_pdf.save(output_pdf)\n",
        "    novo_pdf.close()\n",
        "    doc.close()\n",
        "    print(f\"Tradução concluída. Arquivo salvo como '{output_pdf}'.\")\n",
        "\n",
        "# Usar a função\n",
        "traduzir_pdf(\"documento_original.pdf\", \"documento_traduzido.pdf\")\n",
        "```\n",
        "from translate import Translator\n",
        "\n",
        "def traduzir_pdf(input_pdf, output_pdf, src_lang=\"en\", dest_lang=\"pt\"):\n",
        "    # Abrir o PDF\n",
        "    doc = fitz.open(input_pdf)\n",
        "    translator = Translator(from_lang=src_lang, to_lang=dest_lang)\n",
        "\n",
        "    # Criar um novo PDF\n",
        "    novo_pdf = fitz.open()\n",
        "\n",
        "    for num, pagina in enumerate(doc, start=1):\n",
        "        print(f\"Traduzindo página {num} de {len(doc)}...\")\n",
        "        texto = pagina.get_text()\n",
        "        if texto.strip():  # Traduzir somente se houver texto\n",
        "            try:\n",
        "                texto_traduzido = translator.translate(texto)\n",
        "            except Exception as e:\n",
        "                print(f\"Erro ao traduzir a página {num}: {e}\")\n",
        "                texto_traduzido = texto  # Manter o texto original em caso de erro\n",
        "\n",
        "            # Adicionar a página traduzida ao novo PDF\n",
        "            nova_pagina = novo_pdf.new_page(width=pagina.rect.width, height=pagina.rect.height)\n",
        "            nova_pagina.insert_text(fitz.Point(72, 72), texto_traduzido, fontsize=11)\n",
        "        else:\n",
        "            print(f\"Página {num} está vazia ou sem texto.\")\n",
        "\n",
        "    # Salvar o PDF traduzido\n",
        "    novo_pdf.save(output_pdf)\n",
        "    novo_pdf.close()\n",
        "    doc.close()\n",
        "    print(f\"Tradução concluída. Arquivo salvo como '{output_pdf}'.\")\n",
        "\n",
        "# Usar a função\n",
        "traduzir_pdf(\"documento_original.pdf\", \"documento_traduzido.pdf\")\n",
        "```\n",
        "def traduzir_pdf(input_pdf, output_pdf, src_lang=\"en\", dest_lang=\"pt\"):\n",
        "    # Abrir o PDF\n",
        "    doc = fitz.open(input_pdf)\n",
        "    translator = Translator(from_lang=src_lang, to_lang=dest_lang)\n",
        "\n",
        "    # Criar um novo PDF\n",
        "    novo_pdf = fitz.open()\n",
        "\n",
        "    for num, pagina in enumerate(doc, start=1):\n",
        "        print(f\"Traduzindo página {num} de {len(doc)}...\")\n",
        "        texto = pagina.get_text()\n",
        "        if texto.strip():  # Traduzir somente se houver texto\n",
        "            try:\n",
        "                texto_traduzido = translator.translate(texto)\n",
        "            except Exception as e:\n",
        "                print(f\"Erro ao traduzir a página {num}: {e}\")\n",
        "                texto_traduzido = texto  # Manter o texto original em caso de erro\n",
        "\n",
        "            # Adicionar a página traduzida ao novo PDF\n",
        "            nova_pagina = novo_pdf.new_page(width=pagina.rect.width, height=pagina.rect.height)\n",
        "            nova_pagina.insert_text(fitz.Point(72, 72), texto_traduzido, fontsize=11)\n",
        "        else:\n",
        "            print(f\"Página {num} está vazia ou sem texto.\")\n",
        "\n",
        "    # Salvar o PDF traduzido\n",
        "    novo_pdf.save(output_pdf)\n",
        "    novo_pdf.close()\n",
        "    doc.close()\n",
        "    print(f\"Tradução concluída. Arquivo salvo como '{output_pdf}'.\")\n",
        "\n",
        "# Usar a função\n",
        "traduzir_pdf(\"documento_original.pdf\", \"documento_traduzido.pdf\")\n",
        "```\n",
        "    translator = Translator(from_lang=src_lang, to_lang=dest_lang)\n",
        "\n",
        "    # Criar um novo PDF\n",
        "    novo_pdf = fitz.open()\n",
        "\n",
        "    for num, pagina in enumerate(doc, start=1):\n",
        "        print(f\"Traduzindo página {num} de {len(doc)}...\")\n",
        "        texto = pagina.get_text()\n",
        "        if texto.strip():  # Traduzir somente se houver texto\n",
        "            try:\n",
        "                texto_traduzido = translator.translate(texto)\n",
        "            except Exception as e:\n",
        "                print(f\"Erro ao traduzir a página {num}: {e}\")\n",
        "                texto_traduzido = texto  # Manter o texto original em caso de erro\n",
        "\n",
        "            # Adicionar a página traduzida ao novo PDF\n",
        "            nova_pagina = novo_pdf.new_page(width=pagina.rect.width, height=pagina.rect.height)\n",
        "            nova_pagina.insert_text(fitz.Point(72, 72), texto_traduzido, fontsize=11)\n",
        "        else:\n",
        "            print(f\"Página {num} está vazia ou sem texto.\")\n",
        "\n",
        "    # Salvar o PDF traduzido\n",
        "    novo_pdf.save(output_pdf)\n",
        "    novo_pdf.close()\n",
        "    doc.close()\n",
        "    print(f\"Tradução concluída. Arquivo salvo como '{output_pdf}'.\")\n",
        "\n",
        "# Usar a função\n",
        "traduzir_pdf(\"documento_original.pdf\", \"documento_traduzido.pdf\")\n"
      ],
      "metadata": {
        "colab": {
          "base_uri": "https://localhost:8080/",
          "height": 106
        },
        "id": "Qyw56MyqR35a",
        "outputId": "1584594b-9251-40c3-bbab-21da91524771"
      },
      "execution_count": null,
      "outputs": [
        {
          "output_type": "error",
          "ename": "SyntaxError",
          "evalue": "invalid syntax (<ipython-input-9-3d15fb8ee3e5>, line 30)",
          "traceback": [
            "\u001b[0;36m  File \u001b[0;32m\"<ipython-input-9-3d15fb8ee3e5>\"\u001b[0;36m, line \u001b[0;32m30\u001b[0m\n\u001b[0;31m    ```python\u001b[0m\n\u001b[0m    ^\u001b[0m\n\u001b[0;31mSyntaxError\u001b[0m\u001b[0;31m:\u001b[0m invalid syntax\n"
          ]
        }
      ]
    }
  ]
}