{
 "cells": [
  {
   "cell_type": "markdown",
   "metadata": {
    "application/vnd.databricks.v1+cell": {
     "cellMetadata": {},
     "inputWidgets": {},
     "nuid": "a1ead30b-55ad-43e4-b1ad-6554fb215964",
     "showTitle": false,
     "tableResultSettingsMap": {},
     "title": ""
    }
   },
   "source": [
    "# Convertento arquivo csv em parquet"
   ]
  },
  {
   "cell_type": "markdown",
   "metadata": {
    "application/vnd.databricks.v1+cell": {
     "cellMetadata": {},
     "inputWidgets": {},
     "nuid": "e67399f0-5208-442a-9a14-f5e5822b88df",
     "showTitle": false,
     "tableResultSettingsMap": {},
     "title": ""
    }
   },
   "source": [
    "-  **spark.read.format(\"csv\")  Definindo o formato para leitura**\n",
    "-  **.option(\"header\", \"True\") Defindo cabeçalho** \n",
    "-    **.option(\"delimiter\", \";\")  Definir separador de colunas no arquivo** \n",
    "-    **.option(\"inferSchema\", \"True\")  Inferir de forma automatica o tipo de dado de cada coluna**\n",
    "-    **.load(\"/FileStore/tables/siconv_etapa_crono_fisico.csv\")  Carregar arquivo e especificar o caminho** "
   ]
  },
  {
   "cell_type": "code",
   "execution_count": 0,
   "metadata": {
    "application/vnd.databricks.v1+cell": {
     "cellMetadata": {
      "byteLimit": 2048000,
      "rowLimit": 10000
     },
     "inputWidgets": {},
     "nuid": "4fdcf0a9-0f25-4c52-baa6-bef1c5f5d4c1",
     "showTitle": false,
     "tableResultSettingsMap": {},
     "title": ""
    }
   },
   "outputs": [],
   "source": [
    "# Lendo arquivos csv do dbfs com Spark \n",
    "df = (\n",
    "    spark.read.format(\"csv\")\\\n",
    "    .option(\"header\", \"True\")\\\n",
    "    .option(\"delimiter\", \";\")\\\n",
    "    .option(\"inferSchema\", \"True\")\\\n",
    "    .load(\"/FileStore/tables/siconv_etapa_crono_fisico.csv\") \n",
    ")"
   ]
  },
  {
   "cell_type": "code",
   "execution_count": 0,
   "metadata": {
    "application/vnd.databricks.v1+cell": {
     "cellMetadata": {
      "byteLimit": 2048000,
      "rowLimit": 10000
     },
     "inputWidgets": {},
     "nuid": "9314d7b9-76c5-47be-9ef5-8626b975ab49",
     "showTitle": false,
     "tableResultSettingsMap": {},
     "title": ""
    }
   },
   "outputs": [
    {
     "output_type": "stream",
     "name": "stdout",
     "output_type": "stream",
     "text": [
      "root\n |-- ID_META: string (nullable = true)\n |-- ID_ETAPA: integer (nullable = true)\n |-- NR_ETAPA: integer (nullable = true)\n |-- DESC_ETAPA: string (nullable = true)\n |-- DATA_INICIO_ETAPA: string (nullable = true)\n |-- DATA_FIM_ETAPA: string (nullable = true)\n |-- UF_ETAPA: string (nullable = true)\n |-- MUNICIPIO_ETAPA: string (nullable = true)\n |-- ENDERECO_ETAPA: string (nullable = true)\n |-- CEP_ETAPA: string (nullable = true)\n |-- QTD_ETAPA: string (nullable = true)\n |-- UND_FORNECIMENTO_ETAPA: string (nullable = true)\n |-- VL_ETAPA: string (nullable = true)\n\n"
     ]
    }
   ],
   "source": [
    "# Verificando o Schema do dataframe\n",
    "df.printSchema()"
   ]
  },
  {
   "cell_type": "code",
   "execution_count": 0,
   "metadata": {
    "application/vnd.databricks.v1+cell": {
     "cellMetadata": {
      "byteLimit": 2048000,
      "rowLimit": 10000
     },
     "inputWidgets": {},
     "nuid": "21ebd6b2-8494-43ca-bb22-2046b57a749c",
     "showTitle": false,
     "tableResultSettingsMap": {},
     "title": ""
    }
   },
   "outputs": [
    {
     "output_type": "stream",
     "name": "stdout",
     "output_type": "stream",
     "text": [
      "+-------+--------+--------+--------------------+-----------------+--------------+--------+---------------+--------------------+---------+---------+----------------------+--------+\n|ID_META|ID_ETAPA|NR_ETAPA|          DESC_ETAPA|DATA_INICIO_ETAPA|DATA_FIM_ETAPA|UF_ETAPA|MUNICIPIO_ETAPA|      ENDERECO_ETAPA|CEP_ETAPA|QTD_ETAPA|UND_FORNECIMENTO_ETAPA|VL_ETAPA|\n+-------+--------+--------+--------------------+-----------------+--------------+--------+---------------+--------------------+---------+---------+----------------------+--------+\n|   1230|    1109|       1|Ampliação do Barr...|       05/08/2008|    08/12/2008|      PR|      PARANAVAI|Rua Getulio Varga...|87702-000|     null|                  null|  160000|\n|   1233|    1112|       1|Ampliação de 103 ...|       05/08/2008|    08/12/2008|      PR|      PARANAVAI|Rua Pioneiro Fran...|87700-000|     null|                  null|  150000|\n|   1234|    1111|       1|palestras educativas|       18/08/2008|    24/11/2008|      PR|      PARANAVAI|Em diversas escol...|87700-000|     null|                  null|    1000|\n|   1234|    1113|       2|08 Palestras em d...|       18/08/2008|    28/11/2008|      PR|      PARANAVAI|Rua Pioneiro Fran...|87700-000|     null|                  null|    8000|\n|   1234|    1110|       3|Filmagem e montag...|       18/08/2008|    28/11/2008|      PR|      PARANAVAI|Em diversas escol...|87700-000|     null|                  null|    1000|\n|   1240|  120041|       1|PAVIMENTAR 10.500...|       17/11/2008|    16/11/2009|      RS|  NOVA ALVORADA|CENTRO DA CIDADE ...|95985-000|     null|                  null|  339990|\n|   1241|  120058|       1|PAVIMENTAR 7.000 ...|       15/12/2008|    31/12/2009|      RS|  NOVA ALVORADA|SEDE DO MUNICIPIO...|95985-000|     null|                  null|  336000|\n|   1242|    1150|       1|Compra da prensa ...|       01/09/2008|    01/09/2009|      MG|     TAIOBEIRAS|                null|     null|     null|                  null|   10000|\n|   1243|    1120|       1|Aquisição de pren...|       01/09/2008|    01/09/2009|      MG|     TAIOBEIRAS|Praça da Matriz, ...|39550-000|     null|                  null|    5800|\n|   1243|    1119|       2|Construção do gal...|       01/09/2008|    01/09/2009|      MG|     TAIOBEIRAS|Praça da Matriz, ...|39550-000|     null|                  null|   84200|\n+-------+--------+--------+--------------------+-----------------+--------------+--------+---------------+--------------------+---------+---------+----------------------+--------+\nonly showing top 10 rows\n\n"
     ]
    }
   ],
   "source": [
    "# Verificar as 10 primeiras linhas\n",
    "display(df.show(10))"
   ]
  },
  {
   "cell_type": "code",
   "execution_count": 0,
   "metadata": {
    "application/vnd.databricks.v1+cell": {
     "cellMetadata": {
      "byteLimit": 2048000,
      "rowLimit": 10000
     },
     "inputWidgets": {},
     "nuid": "e85128cc-b299-4be0-b04b-33a8e50078a3",
     "showTitle": false,
     "tableResultSettingsMap": {},
     "title": ""
    }
   },
   "outputs": [
    {
     "output_type": "stream",
     "name": "stdout",
     "output_type": "stream",
     "text": [
      "Out[23]: 3011901"
     ]
    }
   ],
   "source": [
    "# Contando a quantidade de linhas \n",
    "df.count()"
   ]
  },
  {
   "cell_type": "markdown",
   "metadata": {
    "application/vnd.databricks.v1+cell": {
     "cellMetadata": {},
     "inputWidgets": {},
     "nuid": "fccbb4b3-d633-4a68-b736-dc33413fe9f0",
     "showTitle": false,
     "tableResultSettingsMap": {},
     "title": ""
    }
   },
   "source": [
    "### Leva os dados convertidos para Processing Zone"
   ]
  },
  {
   "cell_type": "markdown",
   "metadata": {
    "application/vnd.databricks.v1+cell": {
     "cellMetadata": {},
     "inputWidgets": {},
     "nuid": "1e9847af-31e1-498e-9b7b-9b8bfb526920",
     "showTitle": false,
     "tableResultSettingsMap": {},
     "title": ""
    }
   },
   "source": [
    "- **df.write.format(\"parquet\") Define o formato de saída do arquivo**\n",
    "- **.mode(\"overwrite\") Especifica o modo de gravação e sobrescrever os arquivo no diretório**\n",
    "- **.save(\"/FileStore/tables/csv to parquet\") Define o caminho onde os arquivos serão salvos**"
   ]
  },
  {
   "cell_type": "code",
   "execution_count": 0,
   "metadata": {
    "application/vnd.databricks.v1+cell": {
     "cellMetadata": {
      "byteLimit": 2048000,
      "rowLimit": 10000
     },
     "inputWidgets": {},
     "nuid": "250e565e-fe6e-4ed3-8216-05709dc67e85",
     "showTitle": false,
     "tableResultSettingsMap": {},
     "title": ""
    }
   },
   "outputs": [],
   "source": [
    "# Converte para o formato parquet\n",
    "df.write.format(\"parquet\")\\\n",
    ".mode(\"overwrite\")\\\n",
    ".save(\"/FileStore/tables/csv to parquet\") "
   ]
  },
  {
   "cell_type": "markdown",
   "metadata": {
    "application/vnd.databricks.v1+cell": {
     "cellMetadata": {},
     "inputWidgets": {},
     "nuid": "fd382586-3512-4504-98fa-b78fff4440d8",
     "showTitle": false,
     "tableResultSettingsMap": {},
     "title": ""
    }
   },
   "source": [
    "- **df_parquet = spark.read.format(\"parquet\")\\ Definindo um novo DataFrame** \n",
    "- **.load(\"/FileStore/tables/csv to parquet\"  Define o caminho onde sera carregado** "
   ]
  },
  {
   "cell_type": "code",
   "execution_count": 0,
   "metadata": {
    "application/vnd.databricks.v1+cell": {
     "cellMetadata": {
      "byteLimit": 2048000,
      "rowLimit": 10000
     },
     "inputWidgets": {},
     "nuid": "3906e811-3ebd-4eeb-8ce8-c15ddbafd3fa",
     "showTitle": false,
     "tableResultSettingsMap": {},
     "title": ""
    }
   },
   "outputs": [],
   "source": [
    "# Lendo arquivos parquet\n",
    "df_parquet = spark.read.format(\"parquet\")\\\n",
    ".load(\"/FileStore/tables/csv to parquet\")"
   ]
  },
  {
   "cell_type": "code",
   "execution_count": 0,
   "metadata": {
    "application/vnd.databricks.v1+cell": {
     "cellMetadata": {
      "byteLimit": 2048000,
      "rowLimit": 10000
     },
     "inputWidgets": {},
     "nuid": "ef82461c-2417-4b25-a385-a668731067ea",
     "showTitle": false,
     "tableResultSettingsMap": {},
     "title": ""
    }
   },
   "outputs": [
    {
     "output_type": "stream",
     "name": "stdout",
     "output_type": "stream",
     "text": [
      "Out[29]: 3011901"
     ]
    }
   ],
   "source": [
    "# conta a quantidade de linhas \n",
    "df_parquet.count()"
   ]
  },
  {
   "cell_type": "code",
   "execution_count": 0,
   "metadata": {
    "application/vnd.databricks.v1+cell": {
     "cellMetadata": {
      "byteLimit": 2048000,
      "rowLimit": 10000
     },
     "inputWidgets": {},
     "nuid": "c3949d09-a01c-47d5-b5a8-c6c7c636107e",
     "showTitle": false,
     "tableResultSettingsMap": {},
     "title": ""
    }
   },
   "outputs": [
    {
     "output_type": "display_data",
     "data": {
      "text/html": [
       "<style scoped>\n",
       "  .table-result-container {\n",
       "    max-height: 300px;\n",
       "    overflow: auto;\n",
       "  }\n",
       "  table, th, td {\n",
       "    border: 1px solid black;\n",
       "    border-collapse: collapse;\n",
       "  }\n",
       "  th, td {\n",
       "    padding: 5px;\n",
       "  }\n",
       "  th {\n",
       "    text-align: left;\n",
       "  }\n",
       "</style><div class='table-result-container'><table class='table-result'><thead style='background-color: white'><tr><th>ID_META</th><th>ID_ETAPA</th><th>NR_ETAPA</th><th>DESC_ETAPA</th><th>DATA_INICIO_ETAPA</th><th>DATA_FIM_ETAPA</th><th>UF_ETAPA</th><th>MUNICIPIO_ETAPA</th><th>ENDERECO_ETAPA</th><th>CEP_ETAPA</th><th>QTD_ETAPA</th><th>UND_FORNECIMENTO_ETAPA</th><th>VL_ETAPA</th></tr></thead><tbody><tr><td>220655</td><td>754000</td><td>6</td><td>Mini Rack - tipo sobrepor</td><td>01/03/2010</td><td>30/03/2010</td><td>SP</td><td>MAGDA</td><td>Rua 7 de Setembro 981</td><td>15310-000</td><td>1</td><td>unidade</td><td>1785,64</td></tr><tr><td>220655</td><td>753993</td><td>7</td><td>Nobreak Senoidal 1.4 Va</td><td>01/03/2010</td><td>30/03/2010</td><td>SP</td><td>MAGDA</td><td>Rua 7 de Setembro 981</td><td>15310-000</td><td>2</td><td>unidade</td><td>3193,28</td></tr><tr><td>220655</td><td>753959</td><td>8</td><td>Servidor ultiprocessado 64 Bits, 2 GB RAM DR2,HD SATA2 160 GB, 3 interfaces de Rede</td><td>01/03/2010</td><td>30/03/2010</td><td>SP</td><td>MAGDA</td><td>Rua 7 de Setembro 981</td><td>15310-000</td><td>2</td><td>unidade</td><td>28571,43</td></tr><tr><td>220655</td><td>754012</td><td>9</td><td>Switch 08 portas</td><td>01/03/2010</td><td>30/03/2010</td><td>SP</td><td>MAGDA</td><td>Rua 7 de Setembro 981</td><td>15310-000</td><td>2</td><td>unidade</td><td>672,27</td></tr><tr><td>220655</td><td>753870</td><td>10</td><td>Torre Estaiada</td><td>01/03/2010</td><td>30/03/2010</td><td>SP</td><td>MAGDA</td><td>Rua 7 de Setembro 981</td><td>15310-000</td><td>36</td><td>metros</td><td>31008,4</td></tr><tr><td>220655</td><td>753921</td><td>11</td><td>Transceptor de Rádio Frequência Outdoor 1 interface de 5,8 GHz NanoStation 5.8 Ghz</td><td>01/03/2010</td><td>30/03/2010</td><td>SP</td><td>MAGDA</td><td>Rua 7 de Setembro 981</td><td>15310-000</td><td>10</td><td>unidade</td><td>12184,87</td></tr><tr><td>220655</td><td>753910</td><td>12</td><td>Transceptor de Rádio Frequência Outdoor 3 interfaces de 5.8GHz</td><td>01/03/2010</td><td>30/03/2010</td><td>SP</td><td>MAGDA</td><td>Rua 7 de Setembro 981</td><td>15310-000</td><td>3</td><td>unidade</td><td>6746,22</td></tr><tr><td>220658</td><td>562068</td><td>1</td><td>Tornozeleira 1 kg</td><td>20/01/2010</td><td>20/02/2010</td><td>ES</td><td>CARIACICA</td><td>Rua João Rodrigues Filho,425</td><td>29156-270</td><td>1</td><td>Fisioeletro Ltda</td><td>36</td></tr><tr><td>220662</td><td>549017</td><td>1</td><td>Contratar consultores p/ apoio ao seminário</td><td>13/05/2011</td><td>15/05/2011</td><td>null</td><td>null</td><td>null</td><td>null</td><td>4</td><td>Consultores</td><td>2600</td></tr><tr><td>220662</td><td>549030</td><td>2</td><td>Convocar participantes</td><td>13/05/2011</td><td>15/05/2011</td><td>null</td><td>null</td><td>null</td><td>null</td><td>1</td><td>Convocações</td><td>500</td></tr></tbody></table></div>"
      ]
     },
     "metadata": {
      "application/vnd.databricks.v1+output": {
       "addedWidgets": {},
       "aggData": [],
       "aggError": "",
       "aggOverflow": false,
       "aggSchema": [],
       "aggSeriesLimitReached": false,
       "aggType": "",
       "arguments": {},
       "columnCustomDisplayInfos": {},
       "data": [
        [
         "220655",
         754000,
         6,
         "Mini Rack - tipo sobrepor",
         "01/03/2010",
         "30/03/2010",
         "SP",
         "MAGDA",
         "Rua 7 de Setembro 981",
         "15310-000",
         "1",
         "unidade",
         "1785,64"
        ],
        [
         "220655",
         753993,
         7,
         "Nobreak Senoidal 1.4 Va",
         "01/03/2010",
         "30/03/2010",
         "SP",
         "MAGDA",
         "Rua 7 de Setembro 981",
         "15310-000",
         "2",
         "unidade",
         "3193,28"
        ],
        [
         "220655",
         753959,
         8,
         "Servidor ultiprocessado 64 Bits, 2 GB RAM DR2,HD SATA2 160 GB, 3 interfaces de Rede",
         "01/03/2010",
         "30/03/2010",
         "SP",
         "MAGDA",
         "Rua 7 de Setembro 981",
         "15310-000",
         "2",
         "unidade",
         "28571,43"
        ],
        [
         "220655",
         754012,
         9,
         "Switch 08 portas",
         "01/03/2010",
         "30/03/2010",
         "SP",
         "MAGDA",
         "Rua 7 de Setembro 981",
         "15310-000",
         "2",
         "unidade",
         "672,27"
        ],
        [
         "220655",
         753870,
         10,
         "Torre Estaiada",
         "01/03/2010",
         "30/03/2010",
         "SP",
         "MAGDA",
         "Rua 7 de Setembro 981",
         "15310-000",
         "36",
         "metros",
         "31008,4"
        ],
        [
         "220655",
         753921,
         11,
         "Transceptor de Rádio Frequência Outdoor 1 interface de 5,8 GHz NanoStation 5.8 Ghz",
         "01/03/2010",
         "30/03/2010",
         "SP",
         "MAGDA",
         "Rua 7 de Setembro 981",
         "15310-000",
         "10",
         "unidade",
         "12184,87"
        ],
        [
         "220655",
         753910,
         12,
         "Transceptor de Rádio Frequência Outdoor 3 interfaces de 5.8GHz",
         "01/03/2010",
         "30/03/2010",
         "SP",
         "MAGDA",
         "Rua 7 de Setembro 981",
         "15310-000",
         "3",
         "unidade",
         "6746,22"
        ],
        [
         "220658",
         562068,
         1,
         "Tornozeleira 1 kg",
         "20/01/2010",
         "20/02/2010",
         "ES",
         "CARIACICA",
         "Rua João Rodrigues Filho,425",
         "29156-270",
         "1",
         "Fisioeletro Ltda",
         "36"
        ],
        [
         "220662",
         549017,
         1,
         "Contratar consultores p/ apoio ao seminário",
         "13/05/2011",
         "15/05/2011",
         null,
         null,
         null,
         null,
         "4",
         "Consultores",
         "2600"
        ],
        [
         "220662",
         549030,
         2,
         "Convocar participantes",
         "13/05/2011",
         "15/05/2011",
         null,
         null,
         null,
         null,
         "1",
         "Convocações",
         "500"
        ]
       ],
       "datasetInfos": [],
       "dbfsResultPath": null,
       "isJsonSchema": true,
       "metadata": {},
       "overflow": false,
       "plotOptions": {
        "customPlotOptions": {},
        "displayType": "table",
        "pivotAggregation": null,
        "pivotColumns": null,
        "xColumns": null,
        "yColumns": null
       },
       "removedWidgets": [],
       "schema": [
        {
         "metadata": "{}",
         "name": "ID_META",
         "type": "\"string\""
        },
        {
         "metadata": "{}",
         "name": "ID_ETAPA",
         "type": "\"long\""
        },
        {
         "metadata": "{}",
         "name": "NR_ETAPA",
         "type": "\"long\""
        },
        {
         "metadata": "{}",
         "name": "DESC_ETAPA",
         "type": "\"string\""
        },
        {
         "metadata": "{}",
         "name": "DATA_INICIO_ETAPA",
         "type": "\"string\""
        },
        {
         "metadata": "{}",
         "name": "DATA_FIM_ETAPA",
         "type": "\"string\""
        },
        {
         "metadata": "{}",
         "name": "UF_ETAPA",
         "type": "\"string\""
        },
        {
         "metadata": "{}",
         "name": "MUNICIPIO_ETAPA",
         "type": "\"string\""
        },
        {
         "metadata": "{}",
         "name": "ENDERECO_ETAPA",
         "type": "\"string\""
        },
        {
         "metadata": "{}",
         "name": "CEP_ETAPA",
         "type": "\"string\""
        },
        {
         "metadata": "{}",
         "name": "QTD_ETAPA",
         "type": "\"string\""
        },
        {
         "metadata": "{}",
         "name": "UND_FORNECIMENTO_ETAPA",
         "type": "\"string\""
        },
        {
         "metadata": "{}",
         "name": "VL_ETAPA",
         "type": "\"string\""
        }
       ],
       "type": "table"
      }
     },
     "output_type": "display_data"
    }
   ],
   "source": [
    "display(df_parquet.head(10))"
   ]
  }
 ],
 "metadata": {
  "application/vnd.databricks.v1+notebook": {
   "computePreferences": null,
   "dashboards": [],
   "environmentMetadata": {
    "base_environment": "",
    "client": "1"
   },
   "language": "python",
   "notebookMetadata": {
    "mostRecentlyExecutedCommandWithImplicitDF": {
     "commandId": 3904233988866625,
     "dataframes": [
      "_sqldf"
     ]
    },
    "pythonIndentUnit": 4
   },
   "notebookName": "Csv - Parquet",
   "widgets": {}
  }
 },
 "nbformat": 4,
 "nbformat_minor": 0
}
